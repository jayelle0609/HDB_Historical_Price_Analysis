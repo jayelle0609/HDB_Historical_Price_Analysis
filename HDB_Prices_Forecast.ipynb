{
 "cells": [
  {
   "cell_type": "markdown",
   "id": "200e19ea",
   "metadata": {},
   "source": []
  },
  {
   "cell_type": "markdown",
   "id": "c064eaee",
   "metadata": {},
   "source": [
    "# In this project, we will aim to forecast HDB prices. \n",
    "Firstly, we will clean the data, normalize it. \n",
    "\n",
    "Secondly, we will create visualizations in Python and Tableau to identify the factors affecting HDB Resale Prices.\n",
    "\n",
    "\n",
    "Thirdly, we will deploy a time series forecasting model onto an app to allow for users to predict HDB prices, based on different features they would like their houses to have."
   ]
  },
  {
   "cell_type": "markdown",
   "id": "19b06b21",
   "metadata": {},
   "source": [
    "# Data  was retrieved from Data.gov.sg\n",
    "We will now be reading in the data and merging the data sets accordingly."
   ]
  },
  {
   "cell_type": "code",
   "execution_count": 103,
   "id": "3400a807",
   "metadata": {},
   "outputs": [],
   "source": [
    "import pandas as pd\n",
    "import numpy as np\n",
    "import matplotlib.pyplot as plt\n",
    "import seaborn as sns\n",
    "import re\n",
    "from datetime import datetime as dt"
   ]
  },
  {
   "cell_type": "markdown",
   "id": "bc2c209f",
   "metadata": {},
   "source": [
    "## 1. Data Cleaning and Pre-processing\n",
    "Firstly, I will take a look at the data sets"
   ]
  },
  {
   "cell_type": "code",
   "execution_count": 104,
   "id": "965cbda4",
   "metadata": {},
   "outputs": [],
   "source": [
    "hdb_1999_1999_prices = pd.read_csv(\"Data/resale-flat-prices-based-on-approval-date-1990-1999.csv\")\n",
    "hdb_2000_2012_prices = pd.read_csv(\"Data/resale-flat-prices-based-on-approval-date-2000-feb-2012.csv\")\n",
    "hdb_2012_2014_prices = pd.read_csv(\"Data/resale-flat-prices-based-on-registration-date-from-mar-2012-to-dec-2014.csv\")\n",
    "hdb_2015_2016_prices = pd.read_csv(\"Data/resale-flat-prices-based-on-registration-date-from-jan-2015-to-dec-2016.csv\")\n",
    "hdb_2017_2020_prices = pd.read_csv(\"Data/resale-flat-prices-based-on-registration-date-from-jan-2017-onwards.csv\")"
   ]
  },
  {
   "cell_type": "code",
   "execution_count": 105,
   "id": "26645f1e",
   "metadata": {},
   "outputs": [
    {
     "data": {
      "application/vnd.microsoft.datawrangler.viewer.v0+json": {
       "columns": [
        {
         "name": "index",
         "rawType": "int64",
         "type": "integer"
        },
        {
         "name": "month",
         "rawType": "object",
         "type": "string"
        },
        {
         "name": "town",
         "rawType": "object",
         "type": "string"
        },
        {
         "name": "flat_type",
         "rawType": "object",
         "type": "string"
        },
        {
         "name": "block",
         "rawType": "object",
         "type": "string"
        },
        {
         "name": "street_name",
         "rawType": "object",
         "type": "string"
        },
        {
         "name": "storey_range",
         "rawType": "object",
         "type": "string"
        },
        {
         "name": "floor_area_sqm",
         "rawType": "float64",
         "type": "float"
        },
        {
         "name": "flat_model",
         "rawType": "object",
         "type": "string"
        },
        {
         "name": "lease_commence_date",
         "rawType": "int64",
         "type": "integer"
        },
        {
         "name": "resale_price",
         "rawType": "int64",
         "type": "integer"
        }
       ],
       "ref": "7d8b6cfb-fceb-4c59-8933-f5ecfab60411",
       "rows": [
        [
         "0",
         "1990-01",
         "ANG MO KIO",
         "1 ROOM",
         "309",
         "ANG MO KIO AVE 1",
         "10 TO 12",
         "31.0",
         "IMPROVED",
         "1977",
         "9000"
        ],
        [
         "1",
         "1990-01",
         "ANG MO KIO",
         "1 ROOM",
         "309",
         "ANG MO KIO AVE 1",
         "04 TO 06",
         "31.0",
         "IMPROVED",
         "1977",
         "6000"
        ],
        [
         "2",
         "1990-01",
         "ANG MO KIO",
         "1 ROOM",
         "309",
         "ANG MO KIO AVE 1",
         "10 TO 12",
         "31.0",
         "IMPROVED",
         "1977",
         "8000"
        ],
        [
         "3",
         "1990-01",
         "ANG MO KIO",
         "1 ROOM",
         "309",
         "ANG MO KIO AVE 1",
         "07 TO 09",
         "31.0",
         "IMPROVED",
         "1977",
         "6000"
        ],
        [
         "4",
         "1990-01",
         "ANG MO KIO",
         "3 ROOM",
         "216",
         "ANG MO KIO AVE 1",
         "04 TO 06",
         "73.0",
         "NEW GENERATION",
         "1976",
         "47200"
        ]
       ],
       "shape": {
        "columns": 10,
        "rows": 5
       }
      },
      "text/html": [
       "<div>\n",
       "<style scoped>\n",
       "    .dataframe tbody tr th:only-of-type {\n",
       "        vertical-align: middle;\n",
       "    }\n",
       "\n",
       "    .dataframe tbody tr th {\n",
       "        vertical-align: top;\n",
       "    }\n",
       "\n",
       "    .dataframe thead th {\n",
       "        text-align: right;\n",
       "    }\n",
       "</style>\n",
       "<table border=\"1\" class=\"dataframe\">\n",
       "  <thead>\n",
       "    <tr style=\"text-align: right;\">\n",
       "      <th></th>\n",
       "      <th>month</th>\n",
       "      <th>town</th>\n",
       "      <th>flat_type</th>\n",
       "      <th>block</th>\n",
       "      <th>street_name</th>\n",
       "      <th>storey_range</th>\n",
       "      <th>floor_area_sqm</th>\n",
       "      <th>flat_model</th>\n",
       "      <th>lease_commence_date</th>\n",
       "      <th>resale_price</th>\n",
       "    </tr>\n",
       "  </thead>\n",
       "  <tbody>\n",
       "    <tr>\n",
       "      <th>0</th>\n",
       "      <td>1990-01</td>\n",
       "      <td>ANG MO KIO</td>\n",
       "      <td>1 ROOM</td>\n",
       "      <td>309</td>\n",
       "      <td>ANG MO KIO AVE 1</td>\n",
       "      <td>10 TO 12</td>\n",
       "      <td>31.0</td>\n",
       "      <td>IMPROVED</td>\n",
       "      <td>1977</td>\n",
       "      <td>9000</td>\n",
       "    </tr>\n",
       "    <tr>\n",
       "      <th>1</th>\n",
       "      <td>1990-01</td>\n",
       "      <td>ANG MO KIO</td>\n",
       "      <td>1 ROOM</td>\n",
       "      <td>309</td>\n",
       "      <td>ANG MO KIO AVE 1</td>\n",
       "      <td>04 TO 06</td>\n",
       "      <td>31.0</td>\n",
       "      <td>IMPROVED</td>\n",
       "      <td>1977</td>\n",
       "      <td>6000</td>\n",
       "    </tr>\n",
       "    <tr>\n",
       "      <th>2</th>\n",
       "      <td>1990-01</td>\n",
       "      <td>ANG MO KIO</td>\n",
       "      <td>1 ROOM</td>\n",
       "      <td>309</td>\n",
       "      <td>ANG MO KIO AVE 1</td>\n",
       "      <td>10 TO 12</td>\n",
       "      <td>31.0</td>\n",
       "      <td>IMPROVED</td>\n",
       "      <td>1977</td>\n",
       "      <td>8000</td>\n",
       "    </tr>\n",
       "    <tr>\n",
       "      <th>3</th>\n",
       "      <td>1990-01</td>\n",
       "      <td>ANG MO KIO</td>\n",
       "      <td>1 ROOM</td>\n",
       "      <td>309</td>\n",
       "      <td>ANG MO KIO AVE 1</td>\n",
       "      <td>07 TO 09</td>\n",
       "      <td>31.0</td>\n",
       "      <td>IMPROVED</td>\n",
       "      <td>1977</td>\n",
       "      <td>6000</td>\n",
       "    </tr>\n",
       "    <tr>\n",
       "      <th>4</th>\n",
       "      <td>1990-01</td>\n",
       "      <td>ANG MO KIO</td>\n",
       "      <td>3 ROOM</td>\n",
       "      <td>216</td>\n",
       "      <td>ANG MO KIO AVE 1</td>\n",
       "      <td>04 TO 06</td>\n",
       "      <td>73.0</td>\n",
       "      <td>NEW GENERATION</td>\n",
       "      <td>1976</td>\n",
       "      <td>47200</td>\n",
       "    </tr>\n",
       "  </tbody>\n",
       "</table>\n",
       "</div>"
      ],
      "text/plain": [
       "     month        town flat_type block       street_name storey_range  \\\n",
       "0  1990-01  ANG MO KIO    1 ROOM   309  ANG MO KIO AVE 1     10 TO 12   \n",
       "1  1990-01  ANG MO KIO    1 ROOM   309  ANG MO KIO AVE 1     04 TO 06   \n",
       "2  1990-01  ANG MO KIO    1 ROOM   309  ANG MO KIO AVE 1     10 TO 12   \n",
       "3  1990-01  ANG MO KIO    1 ROOM   309  ANG MO KIO AVE 1     07 TO 09   \n",
       "4  1990-01  ANG MO KIO    3 ROOM   216  ANG MO KIO AVE 1     04 TO 06   \n",
       "\n",
       "   floor_area_sqm      flat_model  lease_commence_date  resale_price  \n",
       "0            31.0        IMPROVED                 1977          9000  \n",
       "1            31.0        IMPROVED                 1977          6000  \n",
       "2            31.0        IMPROVED                 1977          8000  \n",
       "3            31.0        IMPROVED                 1977          6000  \n",
       "4            73.0  NEW GENERATION                 1976         47200  "
      ]
     },
     "execution_count": 105,
     "metadata": {},
     "output_type": "execute_result"
    }
   ],
   "source": [
    "hdb_1999_1999_prices.head()"
   ]
  },
  {
   "cell_type": "code",
   "execution_count": 106,
   "id": "deb77cfe",
   "metadata": {},
   "outputs": [
    {
     "data": {
      "text/plain": [
       "['month',\n",
       " 'town',\n",
       " 'flat_type',\n",
       " 'block',\n",
       " 'street_name',\n",
       " 'storey_range',\n",
       " 'floor_area_sqm',\n",
       " 'flat_model',\n",
       " 'lease_commence_date',\n",
       " 'resale_price']"
      ]
     },
     "execution_count": 106,
     "metadata": {},
     "output_type": "execute_result"
    }
   ],
   "source": [
    "hdb_1999_1999_prices.columns.tolist()\n"
   ]
  },
  {
   "cell_type": "code",
   "execution_count": 107,
   "id": "0ca81cda",
   "metadata": {},
   "outputs": [
    {
     "data": {
      "text/plain": [
       "['month',\n",
       " 'town',\n",
       " 'flat_type',\n",
       " 'block',\n",
       " 'street_name',\n",
       " 'storey_range',\n",
       " 'floor_area_sqm',\n",
       " 'flat_model',\n",
       " 'lease_commence_date',\n",
       " 'remaining_lease',\n",
       " 'resale_price']"
      ]
     },
     "execution_count": 107,
     "metadata": {},
     "output_type": "execute_result"
    }
   ],
   "source": [
    "hdb_2017_2020_prices.columns.tolist()"
   ]
  },
  {
   "cell_type": "markdown",
   "id": "96facf54",
   "metadata": {},
   "source": [
    "# Merging data frames\n",
    "The columns are slight different for flat prices based on registration date and approval date files.\n",
    "\n",
    "We will concat and stack the data frames row wise (axis = 0), by an inner join of common columns."
   ]
  },
  {
   "cell_type": "code",
   "execution_count": 108,
   "id": "3d0ddaa4",
   "metadata": {},
   "outputs": [
    {
     "name": "stdout",
     "output_type": "stream",
     "text": [
      "<class 'pandas.core.frame.DataFrame'>\n",
      "RangeIndex: 826581 entries, 0 to 826580\n",
      "Data columns (total 11 columns):\n",
      " #   Column               Non-Null Count   Dtype  \n",
      "---  ------               --------------   -----  \n",
      " 0   month                826581 non-null  object \n",
      " 1   town                 826581 non-null  object \n",
      " 2   flat_type            826581 non-null  object \n",
      " 3   block                826581 non-null  object \n",
      " 4   street_name          826581 non-null  object \n",
      " 5   storey_range         826581 non-null  object \n",
      " 6   floor_area_sqm       826581 non-null  float64\n",
      " 7   flat_model           826581 non-null  object \n",
      " 8   lease_commence_date  826581 non-null  int64  \n",
      " 9   resale_price         826581 non-null  float64\n",
      " 10  remaining_lease      117527 non-null  object \n",
      "dtypes: float64(2), int64(1), object(8)\n",
      "memory usage: 69.4+ MB\n"
     ]
    }
   ],
   "source": [
    "hdb_all = pd.concat([hdb_1999_1999_prices, hdb_2000_2012_prices,\n",
    "          hdb_2012_2014_prices, hdb_2015_2016_prices, hdb_2017_2020_prices], \n",
    "          axis = 0,\n",
    "          join = 'outer', \n",
    "          ignore_index=True,\n",
    "          )\n",
    "\n",
    "hdb_all.info()"
   ]
  },
  {
   "cell_type": "code",
   "execution_count": 109,
   "id": "3ee7f517",
   "metadata": {},
   "outputs": [
    {
     "data": {
      "text/plain": [
       "['month',\n",
       " 'town',\n",
       " 'flat_type',\n",
       " 'block',\n",
       " 'street_name',\n",
       " 'storey_range',\n",
       " 'floor_area_sqm',\n",
       " 'flat_model',\n",
       " 'lease_commence_date',\n",
       " 'resale_price',\n",
       " 'remaining_lease']"
      ]
     },
     "execution_count": 109,
     "metadata": {},
     "output_type": "execute_result"
    }
   ],
   "source": [
    "hdb_all.columns.tolist()"
   ]
  },
  {
   "cell_type": "code",
   "execution_count": 110,
   "id": "d75f653a",
   "metadata": {},
   "outputs": [],
   "source": [
    "hdb_all['month'] = pd.to_datetime(hdb_all['month'])\n",
    "hdb_all['lease_commence_date'] = pd.to_datetime(hdb_all['lease_commence_date'])"
   ]
  },
  {
   "cell_type": "code",
   "execution_count": 111,
   "id": "1c39faee",
   "metadata": {},
   "outputs": [
    {
     "name": "stdout",
     "output_type": "stream",
     "text": [
      "<class 'pandas.core.frame.DataFrame'>\n",
      "RangeIndex: 826581 entries, 0 to 826580\n",
      "Data columns (total 11 columns):\n",
      " #   Column               Non-Null Count   Dtype         \n",
      "---  ------               --------------   -----         \n",
      " 0   month                826581 non-null  datetime64[ns]\n",
      " 1   town                 826581 non-null  object        \n",
      " 2   flat_type            826581 non-null  object        \n",
      " 3   block                826581 non-null  object        \n",
      " 4   street_name          826581 non-null  object        \n",
      " 5   storey_range         826581 non-null  object        \n",
      " 6   floor_area_sqm       826581 non-null  float64       \n",
      " 7   flat_model           826581 non-null  object        \n",
      " 8   lease_commence_date  826581 non-null  datetime64[ns]\n",
      " 9   resale_price         826581 non-null  float64       \n",
      " 10  remaining_lease      117527 non-null  object        \n",
      "dtypes: datetime64[ns](2), float64(2), object(7)\n",
      "memory usage: 69.4+ MB\n"
     ]
    }
   ],
   "source": [
    "hdb_all.info()"
   ]
  },
  {
   "cell_type": "code",
   "execution_count": 112,
   "id": "1b19378a",
   "metadata": {},
   "outputs": [
    {
     "name": "stdout",
     "output_type": "stream",
     "text": [
      "month - 0%\n",
      "town - 0%\n",
      "flat_type - 0%\n",
      "block - 0%\n",
      "street_name - 0%\n",
      "storey_range - 0%\n",
      "floor_area_sqm - 0%\n",
      "flat_model - 0%\n",
      "lease_commence_date - 0%\n",
      "resale_price - 0%\n",
      "remaining_lease - 86%\n"
     ]
    }
   ],
   "source": [
    "# Let's loop through the data and see if there is anything missing\n",
    "for col in hdb_all.columns:\n",
    "    percent_missing = np.mean(hdb_all[col].isnull())\n",
    "    print(f'{col} - {round(percent_missing*100)}%')"
   ]
  },
  {
   "cell_type": "code",
   "execution_count": 113,
   "id": "4c26afde",
   "metadata": {},
   "outputs": [
    {
     "data": {
      "text/plain": [
       "array([2015, 2016, 2017, 2018, 2019, 2020], dtype=int32)"
      ]
     },
     "execution_count": 113,
     "metadata": {},
     "output_type": "execute_result"
    }
   ],
   "source": [
    "# Where are these nulls coming from?\n",
    "# Not nulls months come from 2015 onwards\n",
    "hdb_all[~hdb_all.remaining_lease.isnull()]['month'].dt.year.unique()"
   ]
  },
  {
   "cell_type": "markdown",
   "id": "8fb66ded",
   "metadata": {},
   "source": [
    "The non-nulls come from 2015 onwards, in remaining_lease columns.\n",
    "\n",
    "This means that before 2015 sales, remaining_lease data was not available.\n",
    "\n",
    "I will clean this column and extract data first, to see if we can use it. \n",
    "\n",
    "Otherwise, I may perhaps drop this col, as there is too much missing data to be useful."
   ]
  },
  {
   "cell_type": "code",
   "execution_count": 114,
   "id": "142e2b33",
   "metadata": {},
   "outputs": [
    {
     "data": {
      "text/plain": [
       "<bound method IndexOpsMixin.value_counts of 709054                    70\n",
       "709055                    65\n",
       "709056                    64\n",
       "709057                    63\n",
       "709058                    64\n",
       "                 ...        \n",
       "826576    66 years 03 months\n",
       "826577    65 years 06 months\n",
       "826578    66 years 04 months\n",
       "826579    66 years 03 months\n",
       "826580    66 years 09 months\n",
       "Name: remaining_lease, Length: 117527, dtype: object>"
      ]
     },
     "execution_count": 114,
     "metadata": {},
     "output_type": "execute_result"
    }
   ],
   "source": [
    "hdb_all[~hdb_all.remaining_lease.isnull()]['remaining_lease'].value_counts\n",
    "# Let's clean the format into xx.xx years left for the lease"
   ]
  },
  {
   "cell_type": "code",
   "execution_count": 115,
   "id": "eccdee67",
   "metadata": {},
   "outputs": [
    {
     "data": {
      "application/vnd.microsoft.datawrangler.viewer.v0+json": {
       "columns": [
        {
         "name": "index",
         "rawType": "int64",
         "type": "integer"
        },
        {
         "name": "lease_years_left",
         "rawType": "float64",
         "type": "float"
        }
       ],
       "ref": "afaa08c6-2ed6-4ede-9d06-9ae27310fbe2",
       "rows": [
        [
         "709054",
         "70.0"
        ],
        [
         "709055",
         "65.0"
        ],
        [
         "709056",
         "64.0"
        ],
        [
         "709057",
         "63.0"
        ],
        [
         "709058",
         "64.0"
        ],
        [
         "709059",
         "64.0"
        ],
        [
         "709060",
         "64.0"
        ],
        [
         "709061",
         "65.0"
        ],
        [
         "709062",
         "62.0"
        ],
        [
         "709063",
         "69.0"
        ],
        [
         "709064",
         "60.0"
        ],
        [
         "709065",
         "64.0"
        ],
        [
         "709066",
         "65.0"
        ],
        [
         "709067",
         "63.0"
        ],
        [
         "709068",
         "63.0"
        ],
        [
         "709069",
         "64.0"
        ],
        [
         "709070",
         "65.0"
        ],
        [
         "709071",
         "63.0"
        ],
        [
         "709072",
         "64.0"
        ],
        [
         "709073",
         "69.0"
        ],
        [
         "709074",
         "65.0"
        ],
        [
         "709075",
         "63.0"
        ],
        [
         "709076",
         "64.0"
        ],
        [
         "709077",
         "61.0"
        ],
        [
         "709078",
         "65.0"
        ],
        [
         "709079",
         "65.0"
        ],
        [
         "709080",
         "62.0"
        ],
        [
         "709081",
         "63.0"
        ],
        [
         "709082",
         "69.0"
        ],
        [
         "709083",
         "64.0"
        ],
        [
         "709084",
         "63.0"
        ],
        [
         "709085",
         "63.0"
        ],
        [
         "709086",
         "63.0"
        ],
        [
         "709087",
         "64.0"
        ],
        [
         "709088",
         "64.0"
        ],
        [
         "709089",
         "62.0"
        ],
        [
         "709090",
         "65.0"
        ],
        [
         "709091",
         "63.0"
        ],
        [
         "709092",
         "65.0"
        ],
        [
         "709093",
         "64.0"
        ],
        [
         "709094",
         "63.0"
        ],
        [
         "709095",
         "61.0"
        ],
        [
         "709096",
         "60.0"
        ],
        [
         "709097",
         "63.0"
        ],
        [
         "709098",
         "62.0"
        ],
        [
         "709099",
         "63.0"
        ],
        [
         "709100",
         "62.0"
        ],
        [
         "709101",
         "63.0"
        ],
        [
         "709102",
         "63.0"
        ],
        [
         "709103",
         "62.0"
        ]
       ],
       "shape": {
        "columns": 1,
        "rows": 117527
       }
      },
      "text/plain": [
       "709054    70.00\n",
       "709055    65.00\n",
       "709056    64.00\n",
       "709057    63.00\n",
       "709058    64.00\n",
       "          ...  \n",
       "826576    66.25\n",
       "826577    65.50\n",
       "826578    66.33\n",
       "826579    66.25\n",
       "826580    66.75\n",
       "Name: lease_years_left, Length: 117527, dtype: float64"
      ]
     },
     "execution_count": 115,
     "metadata": {},
     "output_type": "execute_result"
    }
   ],
   "source": [
    "hdb_all['remaining_lease'] = hdb_all['remaining_lease'].astype(str).str.lower().str.strip()\n",
    "\n",
    "# Define function to clean\n",
    "# \\d : any digit from 0-9\n",
    "# + one or more of the preceding item\n",
    "def parse_remaining_lease_col_to_years(x):\n",
    "    # case 1 : 70 \n",
    "    if re.fullmatch(r'\\d+', x):\n",
    "        return float(x)\n",
    "    # case 2 : 66 years 09 months\n",
    "    #(?:...) : non capturing group\n",
    "    # ? after non capturing group, makes the entire group optional\n",
    "    # \\s : white space\n",
    "    # * : zero or more of previous item\n",
    "    #\\s* : skip any amount of white space\n",
    "    #() : capturing group\n",
    "    match = re.search(r'(?:(\\d+)\\s*years?)?\\s*(?:(\\d+)\\s*months?)?', x)\n",
    "    if match:\n",
    "        years = int(match.group(1) or 0)\n",
    "        months = int(match.group(2) or 0)\n",
    "        total = years + months/12\n",
    "        if total != 0 :\n",
    "            return round(total,2)\n",
    "        else :\n",
    "            return np.nan\n",
    "    # case 3 : nulls\n",
    "    return np.nan\n",
    "\n",
    "hdb_all['lease_years_left'] = hdb_all['remaining_lease'].apply(parse_remaining_lease_col_to_years)\n",
    "hdb_all['lease_years_left'].loc[~hdb_all['lease_years_left'].isna()]"
   ]
  },
  {
   "cell_type": "code",
   "execution_count": 116,
   "id": "1d63126d",
   "metadata": {},
   "outputs": [
    {
     "name": "stdout",
     "output_type": "stream",
     "text": [
      "<class 'pandas.core.frame.DataFrame'>\n",
      "RangeIndex: 826581 entries, 0 to 826580\n",
      "Data columns (total 11 columns):\n",
      " #   Column               Non-Null Count   Dtype         \n",
      "---  ------               --------------   -----         \n",
      " 0   month                826581 non-null  datetime64[ns]\n",
      " 1   town                 826581 non-null  object        \n",
      " 2   flat_type            826581 non-null  object        \n",
      " 3   block                826581 non-null  object        \n",
      " 4   street_name          826581 non-null  object        \n",
      " 5   storey_range         826581 non-null  object        \n",
      " 6   floor_area_sqm       826581 non-null  float64       \n",
      " 7   flat_model           826581 non-null  object        \n",
      " 8   lease_commence_date  826581 non-null  datetime64[ns]\n",
      " 9   resale_price         826581 non-null  float64       \n",
      " 10  lease_years_left     117527 non-null  float64       \n",
      "dtypes: datetime64[ns](2), float64(3), object(6)\n",
      "memory usage: 69.4+ MB\n"
     ]
    }
   ],
   "source": [
    "hdb_all.drop('remaining_lease', axis = 1, inplace=True)\n",
    "hdb_all.info()"
   ]
  },
  {
   "cell_type": "code",
   "execution_count": 117,
   "id": "53a6c3c6",
   "metadata": {},
   "outputs": [
    {
     "data": {
      "application/vnd.microsoft.datawrangler.viewer.v0+json": {
       "columns": [
        {
         "name": "flat_type",
         "rawType": "object",
         "type": "string"
        },
        {
         "name": "count",
         "rawType": "int64",
         "type": "integer"
        }
       ],
       "ref": "12243eab-316b-401a-b2ef-aeb08da916f5",
       "rows": [
        [
         "4 ROOM",
         "309314"
        ],
        [
         "3 ROOM",
         "272580"
        ],
        [
         "5 ROOM",
         "170408"
        ],
        [
         "EXECUTIVE",
         "62641"
        ],
        [
         "2 ROOM",
         "9863"
        ],
        [
         "1 ROOM",
         "1273"
        ],
        [
         "MULTI GENERATION",
         "279"
        ],
        [
         "MULTI-GENERATION",
         "223"
        ]
       ],
       "shape": {
        "columns": 1,
        "rows": 8
       }
      },
      "text/plain": [
       "flat_type\n",
       "4 ROOM              309314\n",
       "3 ROOM              272580\n",
       "5 ROOM              170408\n",
       "EXECUTIVE            62641\n",
       "2 ROOM                9863\n",
       "1 ROOM                1273\n",
       "MULTI GENERATION       279\n",
       "MULTI-GENERATION       223\n",
       "Name: count, dtype: int64"
      ]
     },
     "execution_count": 117,
     "metadata": {},
     "output_type": "execute_result"
    }
   ],
   "source": [
    "hdb_all[\"flat_type\"].value_counts()"
   ]
  },
  {
   "cell_type": "code",
   "execution_count": 118,
   "id": "1a68a017",
   "metadata": {},
   "outputs": [
    {
     "data": {
      "application/vnd.microsoft.datawrangler.viewer.v0+json": {
       "columns": [
        {
         "name": "flat_type",
         "rawType": "object",
         "type": "string"
        },
        {
         "name": "count",
         "rawType": "int64",
         "type": "integer"
        }
       ],
       "ref": "9d9ae1f8-b0bd-4d65-844e-f59b5cc80090",
       "rows": [
        [
         "4 room",
         "309314"
        ],
        [
         "3 room",
         "272580"
        ],
        [
         "5 room",
         "170408"
        ],
        [
         "executive",
         "62641"
        ],
        [
         "2 room",
         "9863"
        ],
        [
         "1 room",
         "1273"
        ],
        [
         "multi generation",
         "502"
        ]
       ],
       "shape": {
        "columns": 1,
        "rows": 7
       }
      },
      "text/plain": [
       "flat_type\n",
       "4 room              309314\n",
       "3 room              272580\n",
       "5 room              170408\n",
       "executive            62641\n",
       "2 room                9863\n",
       "1 room                1273\n",
       "multi generation       502\n",
       "Name: count, dtype: int64"
      ]
     },
     "execution_count": 118,
     "metadata": {},
     "output_type": "execute_result"
    }
   ],
   "source": [
    "# Ensure all are in lower case, no white spaces\n",
    "hdb_all['flat_type'] = hdb_all['flat_type'].str.strip().str.lower()\n",
    "\n",
    "# There are duplicates : multi generation and multi-generation\n",
    "hdb_all['flat_type'] = hdb_all['flat_type'].str.replace('multi-generation', 'multi generation')\n",
    "\n",
    "hdb_all.flat_type.value_counts()"
   ]
  },
  {
   "cell_type": "code",
   "execution_count": 119,
   "id": "1a920d61",
   "metadata": {},
   "outputs": [
    {
     "data": {
      "application/vnd.microsoft.datawrangler.viewer.v0+json": {
       "columns": [
        {
         "name": "flat_model",
         "rawType": "object",
         "type": "string"
        },
        {
         "name": "count",
         "rawType": "int64",
         "type": "integer"
        }
       ],
       "ref": "803c75c4-9fca-476f-965d-a20761ec3808",
       "rows": [
        [
         "Model A",
         "158008"
        ],
        [
         "Improved",
         "143763"
        ],
        [
         "New Generation",
         "98672"
        ],
        [
         "NEW GENERATION",
         "78898"
        ],
        [
         "IMPROVED",
         "73593"
        ],
        [
         "MODEL A",
         "70381"
        ],
        [
         "Premium Apartment",
         "35029"
        ],
        [
         "Simplified",
         "30702"
        ],
        [
         "SIMPLIFIED",
         "23258"
        ],
        [
         "Standard",
         "22479"
        ],
        [
         "Apartment",
         "22103"
        ],
        [
         "STANDARD",
         "17375"
        ],
        [
         "Maisonette",
         "14694"
        ],
        [
         "MAISONETTE",
         "12215"
        ],
        [
         "APARTMENT",
         "9901"
        ],
        [
         "Model A2",
         "9109"
        ],
        [
         "DBSS",
         "1609"
        ],
        [
         "Adjoined flat",
         "1085"
        ],
        [
         "MODEL A-MAISONETTE",
         "982"
        ],
        [
         "Model A-Maisonette",
         "907"
        ],
        [
         "Terrace",
         "395"
        ],
        [
         "MULTI GENERATION",
         "279"
        ],
        [
         "Type S1",
         "272"
        ],
        [
         "TERRACE",
         "247"
        ],
        [
         "Multi Generation",
         "223"
        ],
        [
         "Type S2",
         "129"
        ],
        [
         "Premium Maisonette",
         "82"
        ],
        [
         "Improved-Maisonette",
         "70"
        ],
        [
         "IMPROVED-MAISONETTE",
         "44"
        ],
        [
         "Premium Apartment Loft",
         "31"
        ],
        [
         "2-ROOM",
         "21"
        ],
        [
         "2-room",
         "19"
        ],
        [
         "PREMIUM APARTMENT",
         "6"
        ]
       ],
       "shape": {
        "columns": 1,
        "rows": 33
       }
      },
      "text/plain": [
       "flat_model\n",
       "Model A                   158008\n",
       "Improved                  143763\n",
       "New Generation             98672\n",
       "NEW GENERATION             78898\n",
       "IMPROVED                   73593\n",
       "MODEL A                    70381\n",
       "Premium Apartment          35029\n",
       "Simplified                 30702\n",
       "SIMPLIFIED                 23258\n",
       "Standard                   22479\n",
       "Apartment                  22103\n",
       "STANDARD                   17375\n",
       "Maisonette                 14694\n",
       "MAISONETTE                 12215\n",
       "APARTMENT                   9901\n",
       "Model A2                    9109\n",
       "DBSS                        1609\n",
       "Adjoined flat               1085\n",
       "MODEL A-MAISONETTE           982\n",
       "Model A-Maisonette           907\n",
       "Terrace                      395\n",
       "MULTI GENERATION             279\n",
       "Type S1                      272\n",
       "TERRACE                      247\n",
       "Multi Generation             223\n",
       "Type S2                      129\n",
       "Premium Maisonette            82\n",
       "Improved-Maisonette           70\n",
       "IMPROVED-MAISONETTE           44\n",
       "Premium Apartment Loft        31\n",
       "2-ROOM                        21\n",
       "2-room                        19\n",
       "PREMIUM APARTMENT              6\n",
       "Name: count, dtype: int64"
      ]
     },
     "execution_count": 119,
     "metadata": {},
     "output_type": "execute_result"
    }
   ],
   "source": [
    "hdb_all['flat_model'].value_counts()"
   ]
  },
  {
   "cell_type": "code",
   "execution_count": 120,
   "id": "6fbe8a89",
   "metadata": {},
   "outputs": [
    {
     "data": {
      "text/plain": [
       "<Axes: title={'center': 'CPI Forecast with Linear Regression'}, ylabel='flat_model'>"
      ]
     },
     "execution_count": 120,
     "metadata": {},
     "output_type": "execute_result"
    }
   ],
   "source": [
    "# There are once again, duplicate values. We will replace them.\n",
    "# FIrstly, let's convert all to lower. Then replace all '-' with ' ', using regex.\n",
    "\n",
    "hdb_all['flat_model'] = (\n",
    "    hdb_all['flat_model']\n",
    "    .str.lower()\n",
    "    .str.replace('-',' ', regex = True) \n",
    "    .str.strip()) # removes trailing spaces at end/start\n",
    "\n",
    "hdb_all['flat_model'].replace({'premium apartment loft':'premium apartment'})\n",
    "hdb_all['flat_model'].value_counts().plot(kind='barh')\n",
    "\n",
    "# simple bar chart showing distributions, across flat models"
   ]
  },
  {
   "cell_type": "code",
   "execution_count": 121,
   "id": "a0eaca33",
   "metadata": {},
   "outputs": [],
   "source": [
    "# Modern bar chart with more numerical information of distributions, across flat models\n",
    "import matplotlib.colors as mcolors\n",
    "import matplotlib.cm as cm\n",
    "\n",
    "# Get sorted value counts\n",
    "counts = (hdb_all['flat_model'].value_counts()/1000).sort_values()\n",
    "norm = mcolors.Normalize(vmin=counts.min(), vmax=counts.max())\n",
    "colors = cm.plasma(norm(counts.values))\n",
    "\n",
    "# Create figure and axes\n",
    "fig, ax = plt.subplots(figsize=(10, 6))\n",
    "\n",
    "# Plot bars\n",
    "bars = ax.barh(y=counts.index, width=counts.values, color=colors, edgecolor='black')\n",
    "\n",
    "# Labels\n",
    "ax.set_xlabel('Count (k)')\n",
    "ax.set_ylabel('Flat Model')\n",
    "ax.set_title('Count of Flat Models with Color Intensity and Mean Line')\n",
    "\n",
    "# Looping through each bar in the chart :\n",
    "for bar in bars:\n",
    "    width = bar.get_width() # returns length of bar (value represented by the bar)\n",
    "    ax.text(                # creates text label next to each bar\n",
    "        x = width + max(counts) * 0.01,           # x coordinate where text is displayed\n",
    "        y = bar.get_y() + bar.get_height() / 2,   # y coordinate where text is displayed\n",
    "        s = f'{width :.1f}k',                     # format in thousands # s : string to display\n",
    "        va='center', ha='left', color = \"#034646\", # vertical alighnment, horizontal alignment relative to (x,y)\n",
    "        fontweight ='light')\n",
    "\n",
    "# Calculate mean\n",
    "mean_count = counts.mean()\n",
    "\n",
    "# Add vertical mean line\n",
    "ax.axvline(\n",
    "    mean_count,\n",
    "    color='red',\n",
    "    linestyle='--',\n",
    "    linewidth=2,\n",
    "    alpha=0.2,\n",
    "    label=f'Mean: {mean_count / 1000:.2f}k'\n",
    ")\n",
    "\n",
    "# Show legend\n",
    "ax.legend()\n",
    "ax.set_xlim(right=max(counts)*1.15)\n",
    "\n",
    "plt.tight_layout()\n",
    "plt.show()\n"
   ]
  },
  {
   "cell_type": "code",
   "execution_count": 122,
   "id": "c32fc27e",
   "metadata": {},
   "outputs": [
    {
     "data": {
      "application/vnd.microsoft.datawrangler.viewer.v0+json": {
       "columns": [
        {
         "name": "storey_range",
         "rawType": "object",
         "type": "string"
        },
        {
         "name": "count",
         "rawType": "int64",
         "type": "integer"
        }
       ],
       "ref": "2da8a9aa-b42c-44f9-8c1d-ffb722cedc98",
       "rows": [
        [
         "01 TO 03",
         "168985"
        ],
        [
         "01 TO 05",
         "2700"
        ],
        [
         "04 TO 06",
         "209705"
        ],
        [
         "06 TO 10",
         "2474"
        ],
        [
         "07 TO 09",
         "189109"
        ],
        [
         "10 TO 12",
         "160250"
        ],
        [
         "11 TO 15",
         "1259"
        ],
        [
         "13 TO 15",
         "52212"
        ],
        [
         "16 TO 18",
         "19449"
        ],
        [
         "16 TO 20",
         "265"
        ],
        [
         "19 TO 21",
         "9422"
        ],
        [
         "21 TO 25",
         "92"
        ],
        [
         "22 TO 24",
         "6053"
        ],
        [
         "25 TO 27",
         "2544"
        ],
        [
         "26 TO 30",
         "39"
        ],
        [
         "28 TO 30",
         "1049"
        ],
        [
         "31 TO 33",
         "265"
        ],
        [
         "31 TO 35",
         "2"
        ],
        [
         "34 TO 36",
         "267"
        ],
        [
         "36 TO 40",
         "7"
        ],
        [
         "37 TO 39",
         "255"
        ],
        [
         "40 TO 42",
         "132"
        ],
        [
         "43 TO 45",
         "16"
        ],
        [
         "46 TO 48",
         "21"
        ],
        [
         "49 TO 51",
         "9"
        ]
       ],
       "shape": {
        "columns": 1,
        "rows": 25
       }
      },
      "text/plain": [
       "storey_range\n",
       "01 TO 03    168985\n",
       "01 TO 05      2700\n",
       "04 TO 06    209705\n",
       "06 TO 10      2474\n",
       "07 TO 09    189109\n",
       "10 TO 12    160250\n",
       "11 TO 15      1259\n",
       "13 TO 15     52212\n",
       "16 TO 18     19449\n",
       "16 TO 20       265\n",
       "19 TO 21      9422\n",
       "21 TO 25        92\n",
       "22 TO 24      6053\n",
       "25 TO 27      2544\n",
       "26 TO 30        39\n",
       "28 TO 30      1049\n",
       "31 TO 33       265\n",
       "31 TO 35         2\n",
       "34 TO 36       267\n",
       "36 TO 40         7\n",
       "37 TO 39       255\n",
       "40 TO 42       132\n",
       "43 TO 45        16\n",
       "46 TO 48        21\n",
       "49 TO 51         9\n",
       "Name: count, dtype: int64"
      ]
     },
     "execution_count": 122,
     "metadata": {},
     "output_type": "execute_result"
    }
   ],
   "source": [
    "hdb_all['storey_range'].value_counts().sort_index(ascending=True)\n",
    "\n",
    "# 01 to 03 is duplicated with 01 to 05. We will replace all to 01 to 05.\n",
    "# inconsistent floor level ranges"
   ]
  },
  {
   "cell_type": "markdown",
   "id": "5d110372",
   "metadata": {},
   "source": [
    "## Floor range is probably a factor that also affects housing prices.\n",
    "\n",
    "We cannot leave the information inconsistent like this as it will affect our regression later.\n",
    "\n",
    "I will be cleaning this data and using the average values of each range instead.\n",
    "\n"
   ]
  },
  {
   "cell_type": "code",
   "execution_count": 123,
   "id": "c66af449",
   "metadata": {},
   "outputs": [
    {
     "data": {
      "text/plain": [
       "['01 TO 03',\n",
       " '01 TO 05',\n",
       " '04 TO 06',\n",
       " '06 TO 10',\n",
       " '07 TO 09',\n",
       " '10 TO 12',\n",
       " '11 TO 15',\n",
       " '13 TO 15',\n",
       " '16 TO 18',\n",
       " '16 TO 20',\n",
       " '19 TO 21',\n",
       " '21 TO 25',\n",
       " '22 TO 24',\n",
       " '25 TO 27',\n",
       " '26 TO 30',\n",
       " '28 TO 30',\n",
       " '31 TO 33',\n",
       " '31 TO 35',\n",
       " '34 TO 36',\n",
       " '36 TO 40',\n",
       " '37 TO 39',\n",
       " '40 TO 42',\n",
       " '43 TO 45',\n",
       " '46 TO 48',\n",
       " '49 TO 51']"
      ]
     },
     "execution_count": 123,
     "metadata": {},
     "output_type": "execute_result"
    }
   ],
   "source": [
    "hdb_all['storey_range'].value_counts().sort_index(ascending=True).index.tolist()"
   ]
  },
  {
   "cell_type": "code",
   "execution_count": 124,
   "id": "387d1f76",
   "metadata": {},
   "outputs": [],
   "source": [
    "hdb_all['town']=hdb_all['town'].str.lower()"
   ]
  },
  {
   "cell_type": "code",
   "execution_count": 125,
   "id": "79c878e1",
   "metadata": {},
   "outputs": [
    {
     "data": {
      "application/vnd.microsoft.datawrangler.viewer.v0+json": {
       "columns": [
        {
         "name": "index",
         "rawType": "int64",
         "type": "integer"
        },
        {
         "name": "month",
         "rawType": "datetime64[ns]",
         "type": "datetime"
        },
        {
         "name": "town",
         "rawType": "object",
         "type": "string"
        },
        {
         "name": "flat_type",
         "rawType": "object",
         "type": "string"
        },
        {
         "name": "block",
         "rawType": "object",
         "type": "string"
        },
        {
         "name": "street_name",
         "rawType": "object",
         "type": "string"
        },
        {
         "name": "storey_range",
         "rawType": "object",
         "type": "string"
        },
        {
         "name": "floor_area_sqm",
         "rawType": "float64",
         "type": "float"
        },
        {
         "name": "flat_model",
         "rawType": "object",
         "type": "string"
        },
        {
         "name": "lease_commence_date",
         "rawType": "datetime64[ns]",
         "type": "datetime"
        },
        {
         "name": "resale_price",
         "rawType": "float64",
         "type": "float"
        },
        {
         "name": "lease_years_left",
         "rawType": "float64",
         "type": "float"
        }
       ],
       "ref": "400f4a9a-f598-42e1-87be-0f0e71269bc8",
       "rows": [
        [
         "0",
         "1990-01-01 00:00:00",
         "ang mo kio",
         "1 room",
         "309",
         "ANG MO KIO AVE 1",
         "10 TO 12",
         "31.0",
         "improved",
         "1970-01-01 00:00:00.000001977",
         "9000.0",
         null
        ],
        [
         "1",
         "1990-01-01 00:00:00",
         "ang mo kio",
         "1 room",
         "309",
         "ANG MO KIO AVE 1",
         "04 TO 06",
         "31.0",
         "improved",
         "1970-01-01 00:00:00.000001977",
         "6000.0",
         null
        ],
        [
         "2",
         "1990-01-01 00:00:00",
         "ang mo kio",
         "1 room",
         "309",
         "ANG MO KIO AVE 1",
         "10 TO 12",
         "31.0",
         "improved",
         "1970-01-01 00:00:00.000001977",
         "8000.0",
         null
        ],
        [
         "3",
         "1990-01-01 00:00:00",
         "ang mo kio",
         "1 room",
         "309",
         "ANG MO KIO AVE 1",
         "07 TO 09",
         "31.0",
         "improved",
         "1970-01-01 00:00:00.000001977",
         "6000.0",
         null
        ],
        [
         "4",
         "1990-01-01 00:00:00",
         "ang mo kio",
         "3 room",
         "216",
         "ANG MO KIO AVE 1",
         "04 TO 06",
         "73.0",
         "new generation",
         "1970-01-01 00:00:00.000001976",
         "47200.0",
         null
        ],
        [
         "5",
         "1990-01-01 00:00:00",
         "ang mo kio",
         "3 room",
         "211",
         "ANG MO KIO AVE 3",
         "01 TO 03",
         "67.0",
         "new generation",
         "1970-01-01 00:00:00.000001977",
         "46000.0",
         null
        ],
        [
         "6",
         "1990-01-01 00:00:00",
         "ang mo kio",
         "3 room",
         "202",
         "ANG MO KIO AVE 3",
         "07 TO 09",
         "67.0",
         "new generation",
         "1970-01-01 00:00:00.000001977",
         "42000.0",
         null
        ],
        [
         "7",
         "1990-01-01 00:00:00",
         "ang mo kio",
         "3 room",
         "235",
         "ANG MO KIO AVE 3",
         "10 TO 12",
         "67.0",
         "new generation",
         "1970-01-01 00:00:00.000001977",
         "38000.0",
         null
        ],
        [
         "8",
         "1990-01-01 00:00:00",
         "ang mo kio",
         "3 room",
         "235",
         "ANG MO KIO AVE 3",
         "04 TO 06",
         "67.0",
         "new generation",
         "1970-01-01 00:00:00.000001977",
         "40000.0",
         null
        ],
        [
         "9",
         "1990-01-01 00:00:00",
         "ang mo kio",
         "3 room",
         "232",
         "ANG MO KIO AVE 3",
         "01 TO 03",
         "67.0",
         "new generation",
         "1970-01-01 00:00:00.000001977",
         "47000.0",
         null
        ],
        [
         "10",
         "1990-01-01 00:00:00",
         "ang mo kio",
         "3 room",
         "232",
         "ANG MO KIO AVE 3",
         "07 TO 09",
         "67.0",
         "new generation",
         "1970-01-01 00:00:00.000001977",
         "43000.0",
         null
        ],
        [
         "11",
         "1990-01-01 00:00:00",
         "ang mo kio",
         "3 room",
         "308",
         "ANG MO KIO AVE 1",
         "07 TO 09",
         "82.0",
         "new generation",
         "1970-01-01 00:00:00.000001976",
         "59000.0",
         null
        ],
        [
         "12",
         "1990-01-01 00:00:00",
         "ang mo kio",
         "3 room",
         "308",
         "ANG MO KIO AVE 1",
         "10 TO 12",
         "67.0",
         "new generation",
         "1970-01-01 00:00:00.000001976",
         "47200.0",
         null
        ],
        [
         "13",
         "1990-01-01 00:00:00",
         "ang mo kio",
         "3 room",
         "220",
         "ANG MO KIO AVE 1",
         "07 TO 09",
         "67.0",
         "new generation",
         "1970-01-01 00:00:00.000001977",
         "35000.0",
         null
        ],
        [
         "14",
         "1990-01-01 00:00:00",
         "ang mo kio",
         "3 room",
         "219",
         "ANG MO KIO AVE 1",
         "07 TO 09",
         "82.0",
         "new generation",
         "1970-01-01 00:00:00.000001977",
         "52000.0",
         null
        ],
        [
         "15",
         "1990-01-01 00:00:00",
         "ang mo kio",
         "3 room",
         "247",
         "ANG MO KIO AVE 3",
         "04 TO 06",
         "82.0",
         "new generation",
         "1970-01-01 00:00:00.000001978",
         "56900.0",
         null
        ],
        [
         "16",
         "1990-01-01 00:00:00",
         "ang mo kio",
         "3 room",
         "320",
         "ANG MO KIO AVE 1",
         "07 TO 09",
         "73.0",
         "new generation",
         "1970-01-01 00:00:00.000001977",
         "40000.0",
         null
        ],
        [
         "17",
         "1990-01-01 00:00:00",
         "ang mo kio",
         "3 room",
         "252",
         "ANG MO KIO AVE 4",
         "07 TO 09",
         "67.0",
         "new generation",
         "1970-01-01 00:00:00.000001977",
         "40000.0",
         null
        ],
        [
         "18",
         "1990-01-01 00:00:00",
         "ang mo kio",
         "3 room",
         "223",
         "ANG MO KIO AVE 1",
         "04 TO 06",
         "67.0",
         "new generation",
         "1970-01-01 00:00:00.000001978",
         "47200.0",
         null
        ],
        [
         "19",
         "1990-01-01 00:00:00",
         "ang mo kio",
         "3 room",
         "223",
         "ANG MO KIO AVE 1",
         "10 TO 12",
         "67.0",
         "new generation",
         "1970-01-01 00:00:00.000001978",
         "37000.0",
         null
        ],
        [
         "20",
         "1990-01-01 00:00:00",
         "ang mo kio",
         "3 room",
         "230",
         "ANG MO KIO AVE 3",
         "07 TO 09",
         "82.0",
         "new generation",
         "1970-01-01 00:00:00.000001978",
         "60000.0",
         null
        ],
        [
         "21",
         "1990-01-01 00:00:00",
         "ang mo kio",
         "3 room",
         "329",
         "ANG MO KIO AVE 3",
         "07 TO 09",
         "73.0",
         "new generation",
         "1970-01-01 00:00:00.000001978",
         "40000.0",
         null
        ],
        [
         "22",
         "1990-01-01 00:00:00",
         "ang mo kio",
         "3 room",
         "313",
         "ANG MO KIO AVE 3",
         "10 TO 12",
         "73.0",
         "new generation",
         "1970-01-01 00:00:00.000001978",
         "41000.0",
         null
        ],
        [
         "23",
         "1990-01-01 00:00:00",
         "ang mo kio",
         "3 room",
         "117",
         "ANG MO KIO AVE 4",
         "04 TO 06",
         "74.0",
         "new generation",
         "1970-01-01 00:00:00.000001978",
         "37000.0",
         null
        ],
        [
         "24",
         "1990-01-01 00:00:00",
         "ang mo kio",
         "3 room",
         "110",
         "ANG MO KIO AVE 4",
         "10 TO 12",
         "67.0",
         "new generation",
         "1970-01-01 00:00:00.000001978",
         "34000.0",
         null
        ],
        [
         "25",
         "1990-01-01 00:00:00",
         "ang mo kio",
         "3 room",
         "343",
         "ANG MO KIO AVE 3",
         "07 TO 09",
         "73.0",
         "new generation",
         "1970-01-01 00:00:00.000001978",
         "47000.0",
         null
        ],
        [
         "26",
         "1990-01-01 00:00:00",
         "ang mo kio",
         "3 room",
         "345",
         "ANG MO KIO AVE 3",
         "04 TO 06",
         "73.0",
         "new generation",
         "1970-01-01 00:00:00.000001978",
         "36000.0",
         null
        ],
        [
         "27",
         "1990-01-01 00:00:00",
         "ang mo kio",
         "3 room",
         "346",
         "ANG MO KIO AVE 3",
         "10 TO 12",
         "73.0",
         "new generation",
         "1970-01-01 00:00:00.000001978",
         "45000.0",
         null
        ],
        [
         "28",
         "1990-01-01 00:00:00",
         "ang mo kio",
         "3 room",
         "121",
         "ANG MO KIO AVE 3",
         "04 TO 06",
         "67.0",
         "new generation",
         "1970-01-01 00:00:00.000001978",
         "44000.0",
         null
        ],
        [
         "29",
         "1990-01-01 00:00:00",
         "ang mo kio",
         "3 room",
         "129",
         "ANG MO KIO AVE 3",
         "04 TO 06",
         "73.0",
         "new generation",
         "1970-01-01 00:00:00.000001979",
         "44000.0",
         null
        ],
        [
         "30",
         "1990-01-01 00:00:00",
         "ang mo kio",
         "3 room",
         "130",
         "ANG MO KIO AVE 3",
         "01 TO 03",
         "88.0",
         "new generation",
         "1970-01-01 00:00:00.000001979",
         "50000.0",
         null
        ],
        [
         "31",
         "1990-01-01 00:00:00",
         "ang mo kio",
         "3 room",
         "128",
         "ANG MO KIO AVE 3",
         "07 TO 09",
         "67.0",
         "new generation",
         "1970-01-01 00:00:00.000001978",
         "47000.0",
         null
        ],
        [
         "32",
         "1990-01-01 00:00:00",
         "ang mo kio",
         "3 room",
         "127",
         "ANG MO KIO AVE 3",
         "07 TO 09",
         "67.0",
         "new generation",
         "1970-01-01 00:00:00.000001978",
         "47200.0",
         null
        ],
        [
         "33",
         "1990-01-01 00:00:00",
         "ang mo kio",
         "3 room",
         "126",
         "ANG MO KIO AVE 3",
         "10 TO 12",
         "82.0",
         "new generation",
         "1970-01-01 00:00:00.000001978",
         "58000.0",
         null
        ],
        [
         "34",
         "1990-01-01 00:00:00",
         "ang mo kio",
         "3 room",
         "403",
         "ANG MO KIO AVE 10",
         "10 TO 12",
         "67.0",
         "new generation",
         "1970-01-01 00:00:00.000001979",
         "45000.0",
         null
        ],
        [
         "35",
         "1990-01-01 00:00:00",
         "ang mo kio",
         "3 room",
         "404",
         "ANG MO KIO AVE 10",
         "10 TO 12",
         "67.0",
         "new generation",
         "1970-01-01 00:00:00.000001979",
         "44000.0",
         null
        ],
        [
         "36",
         "1990-01-01 00:00:00",
         "ang mo kio",
         "3 room",
         "405",
         "ANG MO KIO AVE 10",
         "04 TO 06",
         "67.0",
         "new generation",
         "1970-01-01 00:00:00.000001979",
         "47000.0",
         null
        ],
        [
         "37",
         "1990-01-01 00:00:00",
         "ang mo kio",
         "3 room",
         "417",
         "ANG MO KIO AVE 10",
         "13 TO 15",
         "89.0",
         "new generation",
         "1970-01-01 00:00:00.000001979",
         "53000.0",
         null
        ],
        [
         "38",
         "1990-01-01 00:00:00",
         "ang mo kio",
         "3 room",
         "418",
         "ANG MO KIO AVE 10",
         "04 TO 06",
         "74.0",
         "new generation",
         "1970-01-01 00:00:00.000001979",
         "47000.0",
         null
        ],
        [
         "39",
         "1990-01-01 00:00:00",
         "ang mo kio",
         "3 room",
         "418",
         "ANG MO KIO AVE 10",
         "07 TO 09",
         "74.0",
         "new generation",
         "1970-01-01 00:00:00.000001979",
         "44000.0",
         null
        ],
        [
         "40",
         "1990-01-01 00:00:00",
         "ang mo kio",
         "3 room",
         "419",
         "ANG MO KIO AVE 10",
         "07 TO 09",
         "74.0",
         "new generation",
         "1970-01-01 00:00:00.000001979",
         "47000.0",
         null
        ],
        [
         "41",
         "1990-01-01 00:00:00",
         "ang mo kio",
         "3 room",
         "441",
         "ANG MO KIO AVE 10",
         "07 TO 09",
         "67.0",
         "new generation",
         "1970-01-01 00:00:00.000001979",
         "47000.0",
         null
        ],
        [
         "42",
         "1990-01-01 00:00:00",
         "ang mo kio",
         "3 room",
         "442",
         "ANG MO KIO AVE 10",
         "04 TO 06",
         "67.0",
         "new generation",
         "1970-01-01 00:00:00.000001979",
         "45000.0",
         null
        ],
        [
         "43",
         "1990-01-01 00:00:00",
         "ang mo kio",
         "3 room",
         "442",
         "ANG MO KIO AVE 10",
         "07 TO 09",
         "67.0",
         "new generation",
         "1970-01-01 00:00:00.000001979",
         "40000.0",
         null
        ],
        [
         "44",
         "1990-01-01 00:00:00",
         "ang mo kio",
         "3 room",
         "442",
         "ANG MO KIO AVE 10",
         "07 TO 09",
         "67.0",
         "new generation",
         "1970-01-01 00:00:00.000001979",
         "47000.0",
         null
        ],
        [
         "45",
         "1990-01-01 00:00:00",
         "ang mo kio",
         "3 room",
         "443",
         "ANG MO KIO AVE 10",
         "07 TO 09",
         "67.0",
         "new generation",
         "1970-01-01 00:00:00.000001979",
         "42000.0",
         null
        ],
        [
         "46",
         "1990-01-01 00:00:00",
         "ang mo kio",
         "3 room",
         "443",
         "ANG MO KIO AVE 10",
         "04 TO 06",
         "82.0",
         "new generation",
         "1970-01-01 00:00:00.000001979",
         "56000.0",
         null
        ],
        [
         "47",
         "1990-01-01 00:00:00",
         "ang mo kio",
         "3 room",
         "444",
         "ANG MO KIO AVE 10",
         "10 TO 12",
         "67.0",
         "new generation",
         "1970-01-01 00:00:00.000001979",
         "36000.0",
         null
        ],
        [
         "48",
         "1990-01-01 00:00:00",
         "ang mo kio",
         "3 room",
         "450",
         "ANG MO KIO AVE 10",
         "01 TO 03",
         "83.0",
         "new generation",
         "1970-01-01 00:00:00.000001979",
         "48000.0",
         null
        ],
        [
         "49",
         "1990-01-01 00:00:00",
         "ang mo kio",
         "3 room",
         "435",
         "ANG MO KIO AVE 10",
         "01 TO 03",
         "67.0",
         "new generation",
         "1970-01-01 00:00:00.000001979",
         "47200.0",
         null
        ]
       ],
       "shape": {
        "columns": 11,
        "rows": 826581
       }
      },
      "text/html": [
       "<div>\n",
       "<style scoped>\n",
       "    .dataframe tbody tr th:only-of-type {\n",
       "        vertical-align: middle;\n",
       "    }\n",
       "\n",
       "    .dataframe tbody tr th {\n",
       "        vertical-align: top;\n",
       "    }\n",
       "\n",
       "    .dataframe thead th {\n",
       "        text-align: right;\n",
       "    }\n",
       "</style>\n",
       "<table border=\"1\" class=\"dataframe\">\n",
       "  <thead>\n",
       "    <tr style=\"text-align: right;\">\n",
       "      <th></th>\n",
       "      <th>month</th>\n",
       "      <th>town</th>\n",
       "      <th>flat_type</th>\n",
       "      <th>block</th>\n",
       "      <th>street_name</th>\n",
       "      <th>storey_range</th>\n",
       "      <th>floor_area_sqm</th>\n",
       "      <th>flat_model</th>\n",
       "      <th>lease_commence_date</th>\n",
       "      <th>resale_price</th>\n",
       "      <th>lease_years_left</th>\n",
       "    </tr>\n",
       "  </thead>\n",
       "  <tbody>\n",
       "    <tr>\n",
       "      <th>0</th>\n",
       "      <td>1990-01-01</td>\n",
       "      <td>ang mo kio</td>\n",
       "      <td>1 room</td>\n",
       "      <td>309</td>\n",
       "      <td>ANG MO KIO AVE 1</td>\n",
       "      <td>10 TO 12</td>\n",
       "      <td>31.0</td>\n",
       "      <td>improved</td>\n",
       "      <td>1970-01-01 00:00:00.000001977</td>\n",
       "      <td>9000.0</td>\n",
       "      <td>NaN</td>\n",
       "    </tr>\n",
       "    <tr>\n",
       "      <th>1</th>\n",
       "      <td>1990-01-01</td>\n",
       "      <td>ang mo kio</td>\n",
       "      <td>1 room</td>\n",
       "      <td>309</td>\n",
       "      <td>ANG MO KIO AVE 1</td>\n",
       "      <td>04 TO 06</td>\n",
       "      <td>31.0</td>\n",
       "      <td>improved</td>\n",
       "      <td>1970-01-01 00:00:00.000001977</td>\n",
       "      <td>6000.0</td>\n",
       "      <td>NaN</td>\n",
       "    </tr>\n",
       "    <tr>\n",
       "      <th>2</th>\n",
       "      <td>1990-01-01</td>\n",
       "      <td>ang mo kio</td>\n",
       "      <td>1 room</td>\n",
       "      <td>309</td>\n",
       "      <td>ANG MO KIO AVE 1</td>\n",
       "      <td>10 TO 12</td>\n",
       "      <td>31.0</td>\n",
       "      <td>improved</td>\n",
       "      <td>1970-01-01 00:00:00.000001977</td>\n",
       "      <td>8000.0</td>\n",
       "      <td>NaN</td>\n",
       "    </tr>\n",
       "    <tr>\n",
       "      <th>3</th>\n",
       "      <td>1990-01-01</td>\n",
       "      <td>ang mo kio</td>\n",
       "      <td>1 room</td>\n",
       "      <td>309</td>\n",
       "      <td>ANG MO KIO AVE 1</td>\n",
       "      <td>07 TO 09</td>\n",
       "      <td>31.0</td>\n",
       "      <td>improved</td>\n",
       "      <td>1970-01-01 00:00:00.000001977</td>\n",
       "      <td>6000.0</td>\n",
       "      <td>NaN</td>\n",
       "    </tr>\n",
       "    <tr>\n",
       "      <th>4</th>\n",
       "      <td>1990-01-01</td>\n",
       "      <td>ang mo kio</td>\n",
       "      <td>3 room</td>\n",
       "      <td>216</td>\n",
       "      <td>ANG MO KIO AVE 1</td>\n",
       "      <td>04 TO 06</td>\n",
       "      <td>73.0</td>\n",
       "      <td>new generation</td>\n",
       "      <td>1970-01-01 00:00:00.000001976</td>\n",
       "      <td>47200.0</td>\n",
       "      <td>NaN</td>\n",
       "    </tr>\n",
       "    <tr>\n",
       "      <th>...</th>\n",
       "      <td>...</td>\n",
       "      <td>...</td>\n",
       "      <td>...</td>\n",
       "      <td>...</td>\n",
       "      <td>...</td>\n",
       "      <td>...</td>\n",
       "      <td>...</td>\n",
       "      <td>...</td>\n",
       "      <td>...</td>\n",
       "      <td>...</td>\n",
       "      <td>...</td>\n",
       "    </tr>\n",
       "    <tr>\n",
       "      <th>826576</th>\n",
       "      <td>2020-09-01</td>\n",
       "      <td>yishun</td>\n",
       "      <td>5 room</td>\n",
       "      <td>716</td>\n",
       "      <td>YISHUN ST 71</td>\n",
       "      <td>07 TO 09</td>\n",
       "      <td>131.0</td>\n",
       "      <td>improved</td>\n",
       "      <td>1970-01-01 00:00:00.000001987</td>\n",
       "      <td>440000.0</td>\n",
       "      <td>66.25</td>\n",
       "    </tr>\n",
       "    <tr>\n",
       "      <th>826577</th>\n",
       "      <td>2020-09-01</td>\n",
       "      <td>yishun</td>\n",
       "      <td>5 room</td>\n",
       "      <td>760</td>\n",
       "      <td>YISHUN ST 72</td>\n",
       "      <td>07 TO 09</td>\n",
       "      <td>122.0</td>\n",
       "      <td>improved</td>\n",
       "      <td>1970-01-01 00:00:00.000001987</td>\n",
       "      <td>458000.0</td>\n",
       "      <td>65.50</td>\n",
       "    </tr>\n",
       "    <tr>\n",
       "      <th>826578</th>\n",
       "      <td>2020-09-01</td>\n",
       "      <td>yishun</td>\n",
       "      <td>5 room</td>\n",
       "      <td>835</td>\n",
       "      <td>YISHUN ST 81</td>\n",
       "      <td>04 TO 06</td>\n",
       "      <td>122.0</td>\n",
       "      <td>improved</td>\n",
       "      <td>1970-01-01 00:00:00.000001987</td>\n",
       "      <td>490000.0</td>\n",
       "      <td>66.33</td>\n",
       "    </tr>\n",
       "    <tr>\n",
       "      <th>826579</th>\n",
       "      <td>2020-09-01</td>\n",
       "      <td>yishun</td>\n",
       "      <td>executive</td>\n",
       "      <td>791</td>\n",
       "      <td>YISHUN AVE 2</td>\n",
       "      <td>04 TO 06</td>\n",
       "      <td>146.0</td>\n",
       "      <td>maisonette</td>\n",
       "      <td>1970-01-01 00:00:00.000001987</td>\n",
       "      <td>558000.0</td>\n",
       "      <td>66.25</td>\n",
       "    </tr>\n",
       "    <tr>\n",
       "      <th>826580</th>\n",
       "      <td>2020-09-01</td>\n",
       "      <td>yishun</td>\n",
       "      <td>executive</td>\n",
       "      <td>387</td>\n",
       "      <td>YISHUN RING RD</td>\n",
       "      <td>04 TO 06</td>\n",
       "      <td>146.0</td>\n",
       "      <td>maisonette</td>\n",
       "      <td>1970-01-01 00:00:00.000001988</td>\n",
       "      <td>555000.0</td>\n",
       "      <td>66.75</td>\n",
       "    </tr>\n",
       "  </tbody>\n",
       "</table>\n",
       "<p>826581 rows × 11 columns</p>\n",
       "</div>"
      ],
      "text/plain": [
       "            month        town  flat_type block       street_name storey_range  \\\n",
       "0      1990-01-01  ang mo kio     1 room   309  ANG MO KIO AVE 1     10 TO 12   \n",
       "1      1990-01-01  ang mo kio     1 room   309  ANG MO KIO AVE 1     04 TO 06   \n",
       "2      1990-01-01  ang mo kio     1 room   309  ANG MO KIO AVE 1     10 TO 12   \n",
       "3      1990-01-01  ang mo kio     1 room   309  ANG MO KIO AVE 1     07 TO 09   \n",
       "4      1990-01-01  ang mo kio     3 room   216  ANG MO KIO AVE 1     04 TO 06   \n",
       "...           ...         ...        ...   ...               ...          ...   \n",
       "826576 2020-09-01      yishun     5 room   716      YISHUN ST 71     07 TO 09   \n",
       "826577 2020-09-01      yishun     5 room   760      YISHUN ST 72     07 TO 09   \n",
       "826578 2020-09-01      yishun     5 room   835      YISHUN ST 81     04 TO 06   \n",
       "826579 2020-09-01      yishun  executive   791      YISHUN AVE 2     04 TO 06   \n",
       "826580 2020-09-01      yishun  executive   387    YISHUN RING RD     04 TO 06   \n",
       "\n",
       "        floor_area_sqm      flat_model           lease_commence_date  \\\n",
       "0                 31.0        improved 1970-01-01 00:00:00.000001977   \n",
       "1                 31.0        improved 1970-01-01 00:00:00.000001977   \n",
       "2                 31.0        improved 1970-01-01 00:00:00.000001977   \n",
       "3                 31.0        improved 1970-01-01 00:00:00.000001977   \n",
       "4                 73.0  new generation 1970-01-01 00:00:00.000001976   \n",
       "...                ...             ...                           ...   \n",
       "826576           131.0        improved 1970-01-01 00:00:00.000001987   \n",
       "826577           122.0        improved 1970-01-01 00:00:00.000001987   \n",
       "826578           122.0        improved 1970-01-01 00:00:00.000001987   \n",
       "826579           146.0      maisonette 1970-01-01 00:00:00.000001987   \n",
       "826580           146.0      maisonette 1970-01-01 00:00:00.000001988   \n",
       "\n",
       "        resale_price  lease_years_left  \n",
       "0             9000.0               NaN  \n",
       "1             6000.0               NaN  \n",
       "2             8000.0               NaN  \n",
       "3             6000.0               NaN  \n",
       "4            47200.0               NaN  \n",
       "...              ...               ...  \n",
       "826576      440000.0             66.25  \n",
       "826577      458000.0             65.50  \n",
       "826578      490000.0             66.33  \n",
       "826579      558000.0             66.25  \n",
       "826580      555000.0             66.75  \n",
       "\n",
       "[826581 rows x 11 columns]"
      ]
     },
     "execution_count": 125,
     "metadata": {},
     "output_type": "execute_result"
    }
   ],
   "source": [
    "hdb_all"
   ]
  },
  {
   "cell_type": "markdown",
   "id": "93be643f",
   "metadata": {},
   "source": [
    "# 2. Data visualizations and EDA\n",
    "- Python\n",
    "- Tableau (Separately)"
   ]
  },
  {
   "cell_type": "markdown",
   "id": "e41f557c",
   "metadata": {},
   "source": [
    "### Average resale price by year\n",
    "### Average resale price by flat type\n",
    "### Average resale price by town\n",
    "### Average resale price by flat model\n",
    "### Average resale price by storey range\n"
   ]
  },
  {
   "cell_type": "code",
   "execution_count": 126,
   "id": "7b48d7a1",
   "metadata": {},
   "outputs": [],
   "source": [
    "hdb_all['year'] = hdb_all['month'].dt.year\n",
    "grouped_cols = ['year','flat_type', 'town', 'flat_model', 'storey_range', 'floor_']\n",
    "titles = ['Year','Flat Type', 'Town', 'Flat Model', 'Storey Range']\n",
    "fig, axes = plt.subplots(nrows=5, ncols = 1, figsize=(12,45))\n",
    "\n",
    "for ax, i, title in zip(axes,grouped_cols,titles):\n",
    "    group = (hdb_all.groupby(i)['resale_price'].mean().round(2)/1000)\n",
    "\n",
    "    if i == 'year':\n",
    "        group = group.sort_index(ascending=False) # sort by Year index\n",
    "    else:\n",
    "        group = group.sort_values(ascending=False) # sort low to high\n",
    "\n",
    "    # Normalize values to map to colormap, higher price = more intense color\n",
    "    norm = mcolors.Normalize(vmin=group.min(), vmax=group.max())\n",
    "    colors = cm.plasma(norm(group.values))\n",
    "\n",
    "    group.plot(kind='barh', ax=ax, color=colors, edgecolor='black')\n",
    "\n",
    "    # Add value labels at the end of each bar\n",
    "    for idx, val in enumerate(group):\n",
    "        ax.text(val+group.max()*0.01, idx, f'{val:.2f}k', va='center', ha='left', fontsize=12, color='black')\n",
    "    mean_val = (hdb_all['resale_price'].mean() / 1000)\n",
    "    ax.axvline(mean_val, alpha=0.5, color='red', linestyle='--', linewidth=2, label=f'Mean of all {title}: {mean_val:.2f}k')\n",
    "\n",
    "    ax.set_title(f\"Average Resale Price by {title}\",fontsize=16)\n",
    "    ax.set_xlabel('Average Resale Price (k)', fontsize=14)\n",
    "    ax.tick_params(labelsize=12)\n",
    "    ax.set_ylabel(title, fontsize=12)\n",
    "    ax.legend()\n",
    "    ax.set_xlim(0, group.max()*1.2) # extends x axis so labels dont get cut off\n",
    "\n",
    "plt.tight_layout\n",
    "plt.show()\n",
    "\n"
   ]
  },
  {
   "cell_type": "code",
   "execution_count": 127,
   "id": "77110061",
   "metadata": {},
   "outputs": [],
   "source": [
    "# violin plots\n",
    "\n",
    "plt.figure(figsize=(14, 50))  # Large height for 5 plots stacked vertically\n",
    "\n",
    "for idx, (col, title) in enumerate(zip(grouped_cols, titles), 1):\n",
    "    plt.subplot(len(grouped_cols), 1, idx)\n",
    "    sns.violinplot(\n",
    "        data=hdb_all,\n",
    "        x=col, hue = col,\n",
    "        y='resale_price', palette='seismic',\n",
    "        inner='box', legend = False\n",
    "    )\n",
    "    plt.title(f'Resale Price Distribution by {title}', fontsize=16)\n",
    "    plt.ylabel('Resale Price (SGD)', fontsize=14)\n",
    "    plt.xticks(rotation=45)\n",
    "    plt.tight_layout()\n",
    "\n",
    "plt.show()\n"
   ]
  },
  {
   "cell_type": "code",
   "execution_count": 128,
   "id": "6fb0dcb5",
   "metadata": {},
   "outputs": [],
   "source": [
    "from pywaffle import Waffle\n",
    "\n",
    "# Step 1: Group and count flat types\n",
    "flat_type_counts = hdb_all['flat_type'].value_counts(normalize=True) * 100\n",
    "flat_type_percents = flat_type_counts.round().astype(int).to_dict()\n",
    "\n",
    "# Step 2: Create waffle chart\n",
    "fig = plt.figure(\n",
    "    FigureClass=Waffle,\n",
    "    rows=5,\n",
    "    values=flat_type_percents,\n",
    "    icons='home',\n",
    "    icon_size=30,\n",
    "    title={'label': 'Distribution of Flat Types', 'loc': 'left', 'fontsize':18},\n",
    "    legend={'loc': 'upper left', 'bbox_to_anchor': (1.025, 1)},\n",
    "    figsize=(12, 6),\n",
    "    block_arranging_style='snake',  # Optional, snake-like pattern\n",
    ")\n",
    "\n",
    "plt.show()\n",
    "\n"
   ]
  },
  {
   "cell_type": "code",
   "execution_count": 129,
   "id": "366f30dd",
   "metadata": {},
   "outputs": [
    {
     "data": {
      "application/vnd.microsoft.datawrangler.viewer.v0+json": {
       "columns": [
        {
         "name": "index",
         "rawType": "int64",
         "type": "integer"
        },
        {
         "name": "month",
         "rawType": "datetime64[ns]",
         "type": "datetime"
        },
        {
         "name": "town",
         "rawType": "object",
         "type": "string"
        },
        {
         "name": "flat_type",
         "rawType": "object",
         "type": "string"
        },
        {
         "name": "block",
         "rawType": "object",
         "type": "string"
        },
        {
         "name": "street_name",
         "rawType": "object",
         "type": "string"
        },
        {
         "name": "storey_range",
         "rawType": "object",
         "type": "string"
        },
        {
         "name": "floor_area_sqm",
         "rawType": "float64",
         "type": "float"
        },
        {
         "name": "flat_model",
         "rawType": "object",
         "type": "string"
        },
        {
         "name": "lease_commence_date",
         "rawType": "datetime64[ns]",
         "type": "datetime"
        },
        {
         "name": "resale_price",
         "rawType": "float64",
         "type": "float"
        },
        {
         "name": "lease_years_left",
         "rawType": "float64",
         "type": "float"
        },
        {
         "name": "year",
         "rawType": "int32",
         "type": "integer"
        }
       ],
       "ref": "f23fdf15-5455-4d90-8c27-c1afaf090c14",
       "rows": [
        [
         "0",
         "1990-01-01 00:00:00",
         "ang mo kio",
         "1 room",
         "309",
         "ANG MO KIO AVE 1",
         "10 TO 12",
         "31.0",
         "improved",
         "1970-01-01 00:00:00.000001977",
         "9000.0",
         null,
         "1990"
        ],
        [
         "1",
         "1990-01-01 00:00:00",
         "ang mo kio",
         "1 room",
         "309",
         "ANG MO KIO AVE 1",
         "04 TO 06",
         "31.0",
         "improved",
         "1970-01-01 00:00:00.000001977",
         "6000.0",
         null,
         "1990"
        ],
        [
         "2",
         "1990-01-01 00:00:00",
         "ang mo kio",
         "1 room",
         "309",
         "ANG MO KIO AVE 1",
         "10 TO 12",
         "31.0",
         "improved",
         "1970-01-01 00:00:00.000001977",
         "8000.0",
         null,
         "1990"
        ],
        [
         "3",
         "1990-01-01 00:00:00",
         "ang mo kio",
         "1 room",
         "309",
         "ANG MO KIO AVE 1",
         "07 TO 09",
         "31.0",
         "improved",
         "1970-01-01 00:00:00.000001977",
         "6000.0",
         null,
         "1990"
        ],
        [
         "4",
         "1990-01-01 00:00:00",
         "ang mo kio",
         "3 room",
         "216",
         "ANG MO KIO AVE 1",
         "04 TO 06",
         "73.0",
         "new generation",
         "1970-01-01 00:00:00.000001976",
         "47200.0",
         null,
         "1990"
        ],
        [
         "5",
         "1990-01-01 00:00:00",
         "ang mo kio",
         "3 room",
         "211",
         "ANG MO KIO AVE 3",
         "01 TO 03",
         "67.0",
         "new generation",
         "1970-01-01 00:00:00.000001977",
         "46000.0",
         null,
         "1990"
        ],
        [
         "6",
         "1990-01-01 00:00:00",
         "ang mo kio",
         "3 room",
         "202",
         "ANG MO KIO AVE 3",
         "07 TO 09",
         "67.0",
         "new generation",
         "1970-01-01 00:00:00.000001977",
         "42000.0",
         null,
         "1990"
        ],
        [
         "7",
         "1990-01-01 00:00:00",
         "ang mo kio",
         "3 room",
         "235",
         "ANG MO KIO AVE 3",
         "10 TO 12",
         "67.0",
         "new generation",
         "1970-01-01 00:00:00.000001977",
         "38000.0",
         null,
         "1990"
        ],
        [
         "8",
         "1990-01-01 00:00:00",
         "ang mo kio",
         "3 room",
         "235",
         "ANG MO KIO AVE 3",
         "04 TO 06",
         "67.0",
         "new generation",
         "1970-01-01 00:00:00.000001977",
         "40000.0",
         null,
         "1990"
        ],
        [
         "9",
         "1990-01-01 00:00:00",
         "ang mo kio",
         "3 room",
         "232",
         "ANG MO KIO AVE 3",
         "01 TO 03",
         "67.0",
         "new generation",
         "1970-01-01 00:00:00.000001977",
         "47000.0",
         null,
         "1990"
        ],
        [
         "10",
         "1990-01-01 00:00:00",
         "ang mo kio",
         "3 room",
         "232",
         "ANG MO KIO AVE 3",
         "07 TO 09",
         "67.0",
         "new generation",
         "1970-01-01 00:00:00.000001977",
         "43000.0",
         null,
         "1990"
        ],
        [
         "11",
         "1990-01-01 00:00:00",
         "ang mo kio",
         "3 room",
         "308",
         "ANG MO KIO AVE 1",
         "07 TO 09",
         "82.0",
         "new generation",
         "1970-01-01 00:00:00.000001976",
         "59000.0",
         null,
         "1990"
        ],
        [
         "12",
         "1990-01-01 00:00:00",
         "ang mo kio",
         "3 room",
         "308",
         "ANG MO KIO AVE 1",
         "10 TO 12",
         "67.0",
         "new generation",
         "1970-01-01 00:00:00.000001976",
         "47200.0",
         null,
         "1990"
        ],
        [
         "13",
         "1990-01-01 00:00:00",
         "ang mo kio",
         "3 room",
         "220",
         "ANG MO KIO AVE 1",
         "07 TO 09",
         "67.0",
         "new generation",
         "1970-01-01 00:00:00.000001977",
         "35000.0",
         null,
         "1990"
        ],
        [
         "14",
         "1990-01-01 00:00:00",
         "ang mo kio",
         "3 room",
         "219",
         "ANG MO KIO AVE 1",
         "07 TO 09",
         "82.0",
         "new generation",
         "1970-01-01 00:00:00.000001977",
         "52000.0",
         null,
         "1990"
        ],
        [
         "15",
         "1990-01-01 00:00:00",
         "ang mo kio",
         "3 room",
         "247",
         "ANG MO KIO AVE 3",
         "04 TO 06",
         "82.0",
         "new generation",
         "1970-01-01 00:00:00.000001978",
         "56900.0",
         null,
         "1990"
        ],
        [
         "16",
         "1990-01-01 00:00:00",
         "ang mo kio",
         "3 room",
         "320",
         "ANG MO KIO AVE 1",
         "07 TO 09",
         "73.0",
         "new generation",
         "1970-01-01 00:00:00.000001977",
         "40000.0",
         null,
         "1990"
        ],
        [
         "17",
         "1990-01-01 00:00:00",
         "ang mo kio",
         "3 room",
         "252",
         "ANG MO KIO AVE 4",
         "07 TO 09",
         "67.0",
         "new generation",
         "1970-01-01 00:00:00.000001977",
         "40000.0",
         null,
         "1990"
        ],
        [
         "18",
         "1990-01-01 00:00:00",
         "ang mo kio",
         "3 room",
         "223",
         "ANG MO KIO AVE 1",
         "04 TO 06",
         "67.0",
         "new generation",
         "1970-01-01 00:00:00.000001978",
         "47200.0",
         null,
         "1990"
        ],
        [
         "19",
         "1990-01-01 00:00:00",
         "ang mo kio",
         "3 room",
         "223",
         "ANG MO KIO AVE 1",
         "10 TO 12",
         "67.0",
         "new generation",
         "1970-01-01 00:00:00.000001978",
         "37000.0",
         null,
         "1990"
        ],
        [
         "20",
         "1990-01-01 00:00:00",
         "ang mo kio",
         "3 room",
         "230",
         "ANG MO KIO AVE 3",
         "07 TO 09",
         "82.0",
         "new generation",
         "1970-01-01 00:00:00.000001978",
         "60000.0",
         null,
         "1990"
        ],
        [
         "21",
         "1990-01-01 00:00:00",
         "ang mo kio",
         "3 room",
         "329",
         "ANG MO KIO AVE 3",
         "07 TO 09",
         "73.0",
         "new generation",
         "1970-01-01 00:00:00.000001978",
         "40000.0",
         null,
         "1990"
        ],
        [
         "22",
         "1990-01-01 00:00:00",
         "ang mo kio",
         "3 room",
         "313",
         "ANG MO KIO AVE 3",
         "10 TO 12",
         "73.0",
         "new generation",
         "1970-01-01 00:00:00.000001978",
         "41000.0",
         null,
         "1990"
        ],
        [
         "23",
         "1990-01-01 00:00:00",
         "ang mo kio",
         "3 room",
         "117",
         "ANG MO KIO AVE 4",
         "04 TO 06",
         "74.0",
         "new generation",
         "1970-01-01 00:00:00.000001978",
         "37000.0",
         null,
         "1990"
        ],
        [
         "24",
         "1990-01-01 00:00:00",
         "ang mo kio",
         "3 room",
         "110",
         "ANG MO KIO AVE 4",
         "10 TO 12",
         "67.0",
         "new generation",
         "1970-01-01 00:00:00.000001978",
         "34000.0",
         null,
         "1990"
        ],
        [
         "25",
         "1990-01-01 00:00:00",
         "ang mo kio",
         "3 room",
         "343",
         "ANG MO KIO AVE 3",
         "07 TO 09",
         "73.0",
         "new generation",
         "1970-01-01 00:00:00.000001978",
         "47000.0",
         null,
         "1990"
        ],
        [
         "26",
         "1990-01-01 00:00:00",
         "ang mo kio",
         "3 room",
         "345",
         "ANG MO KIO AVE 3",
         "04 TO 06",
         "73.0",
         "new generation",
         "1970-01-01 00:00:00.000001978",
         "36000.0",
         null,
         "1990"
        ],
        [
         "27",
         "1990-01-01 00:00:00",
         "ang mo kio",
         "3 room",
         "346",
         "ANG MO KIO AVE 3",
         "10 TO 12",
         "73.0",
         "new generation",
         "1970-01-01 00:00:00.000001978",
         "45000.0",
         null,
         "1990"
        ],
        [
         "28",
         "1990-01-01 00:00:00",
         "ang mo kio",
         "3 room",
         "121",
         "ANG MO KIO AVE 3",
         "04 TO 06",
         "67.0",
         "new generation",
         "1970-01-01 00:00:00.000001978",
         "44000.0",
         null,
         "1990"
        ],
        [
         "29",
         "1990-01-01 00:00:00",
         "ang mo kio",
         "3 room",
         "129",
         "ANG MO KIO AVE 3",
         "04 TO 06",
         "73.0",
         "new generation",
         "1970-01-01 00:00:00.000001979",
         "44000.0",
         null,
         "1990"
        ],
        [
         "30",
         "1990-01-01 00:00:00",
         "ang mo kio",
         "3 room",
         "130",
         "ANG MO KIO AVE 3",
         "01 TO 03",
         "88.0",
         "new generation",
         "1970-01-01 00:00:00.000001979",
         "50000.0",
         null,
         "1990"
        ],
        [
         "31",
         "1990-01-01 00:00:00",
         "ang mo kio",
         "3 room",
         "128",
         "ANG MO KIO AVE 3",
         "07 TO 09",
         "67.0",
         "new generation",
         "1970-01-01 00:00:00.000001978",
         "47000.0",
         null,
         "1990"
        ],
        [
         "32",
         "1990-01-01 00:00:00",
         "ang mo kio",
         "3 room",
         "127",
         "ANG MO KIO AVE 3",
         "07 TO 09",
         "67.0",
         "new generation",
         "1970-01-01 00:00:00.000001978",
         "47200.0",
         null,
         "1990"
        ],
        [
         "33",
         "1990-01-01 00:00:00",
         "ang mo kio",
         "3 room",
         "126",
         "ANG MO KIO AVE 3",
         "10 TO 12",
         "82.0",
         "new generation",
         "1970-01-01 00:00:00.000001978",
         "58000.0",
         null,
         "1990"
        ],
        [
         "34",
         "1990-01-01 00:00:00",
         "ang mo kio",
         "3 room",
         "403",
         "ANG MO KIO AVE 10",
         "10 TO 12",
         "67.0",
         "new generation",
         "1970-01-01 00:00:00.000001979",
         "45000.0",
         null,
         "1990"
        ],
        [
         "35",
         "1990-01-01 00:00:00",
         "ang mo kio",
         "3 room",
         "404",
         "ANG MO KIO AVE 10",
         "10 TO 12",
         "67.0",
         "new generation",
         "1970-01-01 00:00:00.000001979",
         "44000.0",
         null,
         "1990"
        ],
        [
         "36",
         "1990-01-01 00:00:00",
         "ang mo kio",
         "3 room",
         "405",
         "ANG MO KIO AVE 10",
         "04 TO 06",
         "67.0",
         "new generation",
         "1970-01-01 00:00:00.000001979",
         "47000.0",
         null,
         "1990"
        ],
        [
         "37",
         "1990-01-01 00:00:00",
         "ang mo kio",
         "3 room",
         "417",
         "ANG MO KIO AVE 10",
         "13 TO 15",
         "89.0",
         "new generation",
         "1970-01-01 00:00:00.000001979",
         "53000.0",
         null,
         "1990"
        ],
        [
         "38",
         "1990-01-01 00:00:00",
         "ang mo kio",
         "3 room",
         "418",
         "ANG MO KIO AVE 10",
         "04 TO 06",
         "74.0",
         "new generation",
         "1970-01-01 00:00:00.000001979",
         "47000.0",
         null,
         "1990"
        ],
        [
         "39",
         "1990-01-01 00:00:00",
         "ang mo kio",
         "3 room",
         "418",
         "ANG MO KIO AVE 10",
         "07 TO 09",
         "74.0",
         "new generation",
         "1970-01-01 00:00:00.000001979",
         "44000.0",
         null,
         "1990"
        ],
        [
         "40",
         "1990-01-01 00:00:00",
         "ang mo kio",
         "3 room",
         "419",
         "ANG MO KIO AVE 10",
         "07 TO 09",
         "74.0",
         "new generation",
         "1970-01-01 00:00:00.000001979",
         "47000.0",
         null,
         "1990"
        ],
        [
         "41",
         "1990-01-01 00:00:00",
         "ang mo kio",
         "3 room",
         "441",
         "ANG MO KIO AVE 10",
         "07 TO 09",
         "67.0",
         "new generation",
         "1970-01-01 00:00:00.000001979",
         "47000.0",
         null,
         "1990"
        ],
        [
         "42",
         "1990-01-01 00:00:00",
         "ang mo kio",
         "3 room",
         "442",
         "ANG MO KIO AVE 10",
         "04 TO 06",
         "67.0",
         "new generation",
         "1970-01-01 00:00:00.000001979",
         "45000.0",
         null,
         "1990"
        ],
        [
         "43",
         "1990-01-01 00:00:00",
         "ang mo kio",
         "3 room",
         "442",
         "ANG MO KIO AVE 10",
         "07 TO 09",
         "67.0",
         "new generation",
         "1970-01-01 00:00:00.000001979",
         "40000.0",
         null,
         "1990"
        ],
        [
         "44",
         "1990-01-01 00:00:00",
         "ang mo kio",
         "3 room",
         "442",
         "ANG MO KIO AVE 10",
         "07 TO 09",
         "67.0",
         "new generation",
         "1970-01-01 00:00:00.000001979",
         "47000.0",
         null,
         "1990"
        ],
        [
         "45",
         "1990-01-01 00:00:00",
         "ang mo kio",
         "3 room",
         "443",
         "ANG MO KIO AVE 10",
         "07 TO 09",
         "67.0",
         "new generation",
         "1970-01-01 00:00:00.000001979",
         "42000.0",
         null,
         "1990"
        ],
        [
         "46",
         "1990-01-01 00:00:00",
         "ang mo kio",
         "3 room",
         "443",
         "ANG MO KIO AVE 10",
         "04 TO 06",
         "82.0",
         "new generation",
         "1970-01-01 00:00:00.000001979",
         "56000.0",
         null,
         "1990"
        ],
        [
         "47",
         "1990-01-01 00:00:00",
         "ang mo kio",
         "3 room",
         "444",
         "ANG MO KIO AVE 10",
         "10 TO 12",
         "67.0",
         "new generation",
         "1970-01-01 00:00:00.000001979",
         "36000.0",
         null,
         "1990"
        ],
        [
         "48",
         "1990-01-01 00:00:00",
         "ang mo kio",
         "3 room",
         "450",
         "ANG MO KIO AVE 10",
         "01 TO 03",
         "83.0",
         "new generation",
         "1970-01-01 00:00:00.000001979",
         "48000.0",
         null,
         "1990"
        ],
        [
         "49",
         "1990-01-01 00:00:00",
         "ang mo kio",
         "3 room",
         "435",
         "ANG MO KIO AVE 10",
         "01 TO 03",
         "67.0",
         "new generation",
         "1970-01-01 00:00:00.000001979",
         "47200.0",
         null,
         "1990"
        ]
       ],
       "shape": {
        "columns": 12,
        "rows": 826581
       }
      },
      "text/html": [
       "<div>\n",
       "<style scoped>\n",
       "    .dataframe tbody tr th:only-of-type {\n",
       "        vertical-align: middle;\n",
       "    }\n",
       "\n",
       "    .dataframe tbody tr th {\n",
       "        vertical-align: top;\n",
       "    }\n",
       "\n",
       "    .dataframe thead th {\n",
       "        text-align: right;\n",
       "    }\n",
       "</style>\n",
       "<table border=\"1\" class=\"dataframe\">\n",
       "  <thead>\n",
       "    <tr style=\"text-align: right;\">\n",
       "      <th></th>\n",
       "      <th>month</th>\n",
       "      <th>town</th>\n",
       "      <th>flat_type</th>\n",
       "      <th>block</th>\n",
       "      <th>street_name</th>\n",
       "      <th>storey_range</th>\n",
       "      <th>floor_area_sqm</th>\n",
       "      <th>flat_model</th>\n",
       "      <th>lease_commence_date</th>\n",
       "      <th>resale_price</th>\n",
       "      <th>lease_years_left</th>\n",
       "      <th>year</th>\n",
       "    </tr>\n",
       "  </thead>\n",
       "  <tbody>\n",
       "    <tr>\n",
       "      <th>0</th>\n",
       "      <td>1990-01-01</td>\n",
       "      <td>ang mo kio</td>\n",
       "      <td>1 room</td>\n",
       "      <td>309</td>\n",
       "      <td>ANG MO KIO AVE 1</td>\n",
       "      <td>10 TO 12</td>\n",
       "      <td>31.0</td>\n",
       "      <td>improved</td>\n",
       "      <td>1970-01-01 00:00:00.000001977</td>\n",
       "      <td>9000.0</td>\n",
       "      <td>NaN</td>\n",
       "      <td>1990</td>\n",
       "    </tr>\n",
       "    <tr>\n",
       "      <th>1</th>\n",
       "      <td>1990-01-01</td>\n",
       "      <td>ang mo kio</td>\n",
       "      <td>1 room</td>\n",
       "      <td>309</td>\n",
       "      <td>ANG MO KIO AVE 1</td>\n",
       "      <td>04 TO 06</td>\n",
       "      <td>31.0</td>\n",
       "      <td>improved</td>\n",
       "      <td>1970-01-01 00:00:00.000001977</td>\n",
       "      <td>6000.0</td>\n",
       "      <td>NaN</td>\n",
       "      <td>1990</td>\n",
       "    </tr>\n",
       "    <tr>\n",
       "      <th>2</th>\n",
       "      <td>1990-01-01</td>\n",
       "      <td>ang mo kio</td>\n",
       "      <td>1 room</td>\n",
       "      <td>309</td>\n",
       "      <td>ANG MO KIO AVE 1</td>\n",
       "      <td>10 TO 12</td>\n",
       "      <td>31.0</td>\n",
       "      <td>improved</td>\n",
       "      <td>1970-01-01 00:00:00.000001977</td>\n",
       "      <td>8000.0</td>\n",
       "      <td>NaN</td>\n",
       "      <td>1990</td>\n",
       "    </tr>\n",
       "    <tr>\n",
       "      <th>3</th>\n",
       "      <td>1990-01-01</td>\n",
       "      <td>ang mo kio</td>\n",
       "      <td>1 room</td>\n",
       "      <td>309</td>\n",
       "      <td>ANG MO KIO AVE 1</td>\n",
       "      <td>07 TO 09</td>\n",
       "      <td>31.0</td>\n",
       "      <td>improved</td>\n",
       "      <td>1970-01-01 00:00:00.000001977</td>\n",
       "      <td>6000.0</td>\n",
       "      <td>NaN</td>\n",
       "      <td>1990</td>\n",
       "    </tr>\n",
       "    <tr>\n",
       "      <th>4</th>\n",
       "      <td>1990-01-01</td>\n",
       "      <td>ang mo kio</td>\n",
       "      <td>3 room</td>\n",
       "      <td>216</td>\n",
       "      <td>ANG MO KIO AVE 1</td>\n",
       "      <td>04 TO 06</td>\n",
       "      <td>73.0</td>\n",
       "      <td>new generation</td>\n",
       "      <td>1970-01-01 00:00:00.000001976</td>\n",
       "      <td>47200.0</td>\n",
       "      <td>NaN</td>\n",
       "      <td>1990</td>\n",
       "    </tr>\n",
       "    <tr>\n",
       "      <th>...</th>\n",
       "      <td>...</td>\n",
       "      <td>...</td>\n",
       "      <td>...</td>\n",
       "      <td>...</td>\n",
       "      <td>...</td>\n",
       "      <td>...</td>\n",
       "      <td>...</td>\n",
       "      <td>...</td>\n",
       "      <td>...</td>\n",
       "      <td>...</td>\n",
       "      <td>...</td>\n",
       "      <td>...</td>\n",
       "    </tr>\n",
       "    <tr>\n",
       "      <th>826576</th>\n",
       "      <td>2020-09-01</td>\n",
       "      <td>yishun</td>\n",
       "      <td>5 room</td>\n",
       "      <td>716</td>\n",
       "      <td>YISHUN ST 71</td>\n",
       "      <td>07 TO 09</td>\n",
       "      <td>131.0</td>\n",
       "      <td>improved</td>\n",
       "      <td>1970-01-01 00:00:00.000001987</td>\n",
       "      <td>440000.0</td>\n",
       "      <td>66.25</td>\n",
       "      <td>2020</td>\n",
       "    </tr>\n",
       "    <tr>\n",
       "      <th>826577</th>\n",
       "      <td>2020-09-01</td>\n",
       "      <td>yishun</td>\n",
       "      <td>5 room</td>\n",
       "      <td>760</td>\n",
       "      <td>YISHUN ST 72</td>\n",
       "      <td>07 TO 09</td>\n",
       "      <td>122.0</td>\n",
       "      <td>improved</td>\n",
       "      <td>1970-01-01 00:00:00.000001987</td>\n",
       "      <td>458000.0</td>\n",
       "      <td>65.50</td>\n",
       "      <td>2020</td>\n",
       "    </tr>\n",
       "    <tr>\n",
       "      <th>826578</th>\n",
       "      <td>2020-09-01</td>\n",
       "      <td>yishun</td>\n",
       "      <td>5 room</td>\n",
       "      <td>835</td>\n",
       "      <td>YISHUN ST 81</td>\n",
       "      <td>04 TO 06</td>\n",
       "      <td>122.0</td>\n",
       "      <td>improved</td>\n",
       "      <td>1970-01-01 00:00:00.000001987</td>\n",
       "      <td>490000.0</td>\n",
       "      <td>66.33</td>\n",
       "      <td>2020</td>\n",
       "    </tr>\n",
       "    <tr>\n",
       "      <th>826579</th>\n",
       "      <td>2020-09-01</td>\n",
       "      <td>yishun</td>\n",
       "      <td>executive</td>\n",
       "      <td>791</td>\n",
       "      <td>YISHUN AVE 2</td>\n",
       "      <td>04 TO 06</td>\n",
       "      <td>146.0</td>\n",
       "      <td>maisonette</td>\n",
       "      <td>1970-01-01 00:00:00.000001987</td>\n",
       "      <td>558000.0</td>\n",
       "      <td>66.25</td>\n",
       "      <td>2020</td>\n",
       "    </tr>\n",
       "    <tr>\n",
       "      <th>826580</th>\n",
       "      <td>2020-09-01</td>\n",
       "      <td>yishun</td>\n",
       "      <td>executive</td>\n",
       "      <td>387</td>\n",
       "      <td>YISHUN RING RD</td>\n",
       "      <td>04 TO 06</td>\n",
       "      <td>146.0</td>\n",
       "      <td>maisonette</td>\n",
       "      <td>1970-01-01 00:00:00.000001988</td>\n",
       "      <td>555000.0</td>\n",
       "      <td>66.75</td>\n",
       "      <td>2020</td>\n",
       "    </tr>\n",
       "  </tbody>\n",
       "</table>\n",
       "<p>826581 rows × 12 columns</p>\n",
       "</div>"
      ],
      "text/plain": [
       "            month        town  flat_type block       street_name storey_range  \\\n",
       "0      1990-01-01  ang mo kio     1 room   309  ANG MO KIO AVE 1     10 TO 12   \n",
       "1      1990-01-01  ang mo kio     1 room   309  ANG MO KIO AVE 1     04 TO 06   \n",
       "2      1990-01-01  ang mo kio     1 room   309  ANG MO KIO AVE 1     10 TO 12   \n",
       "3      1990-01-01  ang mo kio     1 room   309  ANG MO KIO AVE 1     07 TO 09   \n",
       "4      1990-01-01  ang mo kio     3 room   216  ANG MO KIO AVE 1     04 TO 06   \n",
       "...           ...         ...        ...   ...               ...          ...   \n",
       "826576 2020-09-01      yishun     5 room   716      YISHUN ST 71     07 TO 09   \n",
       "826577 2020-09-01      yishun     5 room   760      YISHUN ST 72     07 TO 09   \n",
       "826578 2020-09-01      yishun     5 room   835      YISHUN ST 81     04 TO 06   \n",
       "826579 2020-09-01      yishun  executive   791      YISHUN AVE 2     04 TO 06   \n",
       "826580 2020-09-01      yishun  executive   387    YISHUN RING RD     04 TO 06   \n",
       "\n",
       "        floor_area_sqm      flat_model           lease_commence_date  \\\n",
       "0                 31.0        improved 1970-01-01 00:00:00.000001977   \n",
       "1                 31.0        improved 1970-01-01 00:00:00.000001977   \n",
       "2                 31.0        improved 1970-01-01 00:00:00.000001977   \n",
       "3                 31.0        improved 1970-01-01 00:00:00.000001977   \n",
       "4                 73.0  new generation 1970-01-01 00:00:00.000001976   \n",
       "...                ...             ...                           ...   \n",
       "826576           131.0        improved 1970-01-01 00:00:00.000001987   \n",
       "826577           122.0        improved 1970-01-01 00:00:00.000001987   \n",
       "826578           122.0        improved 1970-01-01 00:00:00.000001987   \n",
       "826579           146.0      maisonette 1970-01-01 00:00:00.000001987   \n",
       "826580           146.0      maisonette 1970-01-01 00:00:00.000001988   \n",
       "\n",
       "        resale_price  lease_years_left  year  \n",
       "0             9000.0               NaN  1990  \n",
       "1             6000.0               NaN  1990  \n",
       "2             8000.0               NaN  1990  \n",
       "3             6000.0               NaN  1990  \n",
       "4            47200.0               NaN  1990  \n",
       "...              ...               ...   ...  \n",
       "826576      440000.0             66.25  2020  \n",
       "826577      458000.0             65.50  2020  \n",
       "826578      490000.0             66.33  2020  \n",
       "826579      558000.0             66.25  2020  \n",
       "826580      555000.0             66.75  2020  \n",
       "\n",
       "[826581 rows x 12 columns]"
      ]
     },
     "execution_count": 129,
     "metadata": {},
     "output_type": "execute_result"
    }
   ],
   "source": [
    "hdb_all"
   ]
  },
  {
   "cell_type": "code",
   "execution_count": 130,
   "id": "cb44667d",
   "metadata": {},
   "outputs": [
    {
     "data": {
      "application/vnd.microsoft.datawrangler.viewer.v0+json": {
       "columns": [
        {
         "name": "index",
         "rawType": "int64",
         "type": "integer"
        },
        {
         "name": "month",
         "rawType": "datetime64[ns]",
         "type": "datetime"
        },
        {
         "name": "town",
         "rawType": "object",
         "type": "string"
        },
        {
         "name": "flat_type",
         "rawType": "object",
         "type": "string"
        },
        {
         "name": "block",
         "rawType": "object",
         "type": "string"
        },
        {
         "name": "street_name",
         "rawType": "object",
         "type": "string"
        },
        {
         "name": "storey_range",
         "rawType": "object",
         "type": "string"
        },
        {
         "name": "floor_area_sqm",
         "rawType": "float64",
         "type": "float"
        },
        {
         "name": "flat_model",
         "rawType": "object",
         "type": "string"
        },
        {
         "name": "lease_commence_date",
         "rawType": "datetime64[ns]",
         "type": "datetime"
        },
        {
         "name": "resale_price",
         "rawType": "float64",
         "type": "float"
        },
        {
         "name": "lease_years_left",
         "rawType": "float64",
         "type": "float"
        },
        {
         "name": "year",
         "rawType": "int32",
         "type": "integer"
        }
       ],
       "ref": "e2bf54b9-8e37-4b92-9814-5090475c6ee8",
       "rows": [
        [
         "0",
         "1990-01-01 00:00:00",
         "ang mo kio",
         "1 room",
         "309",
         "ANG MO KIO AVE 1",
         "10 TO 12",
         "31.0",
         "improved",
         "1970-01-01 00:00:00.000001977",
         "9000.0",
         null,
         "1990"
        ],
        [
         "1",
         "1990-01-01 00:00:00",
         "ang mo kio",
         "1 room",
         "309",
         "ANG MO KIO AVE 1",
         "04 TO 06",
         "31.0",
         "improved",
         "1970-01-01 00:00:00.000001977",
         "6000.0",
         null,
         "1990"
        ],
        [
         "2",
         "1990-01-01 00:00:00",
         "ang mo kio",
         "1 room",
         "309",
         "ANG MO KIO AVE 1",
         "10 TO 12",
         "31.0",
         "improved",
         "1970-01-01 00:00:00.000001977",
         "8000.0",
         null,
         "1990"
        ],
        [
         "3",
         "1990-01-01 00:00:00",
         "ang mo kio",
         "1 room",
         "309",
         "ANG MO KIO AVE 1",
         "07 TO 09",
         "31.0",
         "improved",
         "1970-01-01 00:00:00.000001977",
         "6000.0",
         null,
         "1990"
        ],
        [
         "4",
         "1990-01-01 00:00:00",
         "ang mo kio",
         "3 room",
         "216",
         "ANG MO KIO AVE 1",
         "04 TO 06",
         "73.0",
         "new generation",
         "1970-01-01 00:00:00.000001976",
         "47200.0",
         null,
         "1990"
        ],
        [
         "5",
         "1990-01-01 00:00:00",
         "ang mo kio",
         "3 room",
         "211",
         "ANG MO KIO AVE 3",
         "01 TO 03",
         "67.0",
         "new generation",
         "1970-01-01 00:00:00.000001977",
         "46000.0",
         null,
         "1990"
        ],
        [
         "6",
         "1990-01-01 00:00:00",
         "ang mo kio",
         "3 room",
         "202",
         "ANG MO KIO AVE 3",
         "07 TO 09",
         "67.0",
         "new generation",
         "1970-01-01 00:00:00.000001977",
         "42000.0",
         null,
         "1990"
        ],
        [
         "7",
         "1990-01-01 00:00:00",
         "ang mo kio",
         "3 room",
         "235",
         "ANG MO KIO AVE 3",
         "10 TO 12",
         "67.0",
         "new generation",
         "1970-01-01 00:00:00.000001977",
         "38000.0",
         null,
         "1990"
        ],
        [
         "8",
         "1990-01-01 00:00:00",
         "ang mo kio",
         "3 room",
         "235",
         "ANG MO KIO AVE 3",
         "04 TO 06",
         "67.0",
         "new generation",
         "1970-01-01 00:00:00.000001977",
         "40000.0",
         null,
         "1990"
        ],
        [
         "9",
         "1990-01-01 00:00:00",
         "ang mo kio",
         "3 room",
         "232",
         "ANG MO KIO AVE 3",
         "01 TO 03",
         "67.0",
         "new generation",
         "1970-01-01 00:00:00.000001977",
         "47000.0",
         null,
         "1990"
        ],
        [
         "10",
         "1990-01-01 00:00:00",
         "ang mo kio",
         "3 room",
         "232",
         "ANG MO KIO AVE 3",
         "07 TO 09",
         "67.0",
         "new generation",
         "1970-01-01 00:00:00.000001977",
         "43000.0",
         null,
         "1990"
        ],
        [
         "11",
         "1990-01-01 00:00:00",
         "ang mo kio",
         "3 room",
         "308",
         "ANG MO KIO AVE 1",
         "07 TO 09",
         "82.0",
         "new generation",
         "1970-01-01 00:00:00.000001976",
         "59000.0",
         null,
         "1990"
        ],
        [
         "12",
         "1990-01-01 00:00:00",
         "ang mo kio",
         "3 room",
         "308",
         "ANG MO KIO AVE 1",
         "10 TO 12",
         "67.0",
         "new generation",
         "1970-01-01 00:00:00.000001976",
         "47200.0",
         null,
         "1990"
        ],
        [
         "13",
         "1990-01-01 00:00:00",
         "ang mo kio",
         "3 room",
         "220",
         "ANG MO KIO AVE 1",
         "07 TO 09",
         "67.0",
         "new generation",
         "1970-01-01 00:00:00.000001977",
         "35000.0",
         null,
         "1990"
        ],
        [
         "14",
         "1990-01-01 00:00:00",
         "ang mo kio",
         "3 room",
         "219",
         "ANG MO KIO AVE 1",
         "07 TO 09",
         "82.0",
         "new generation",
         "1970-01-01 00:00:00.000001977",
         "52000.0",
         null,
         "1990"
        ],
        [
         "15",
         "1990-01-01 00:00:00",
         "ang mo kio",
         "3 room",
         "247",
         "ANG MO KIO AVE 3",
         "04 TO 06",
         "82.0",
         "new generation",
         "1970-01-01 00:00:00.000001978",
         "56900.0",
         null,
         "1990"
        ],
        [
         "16",
         "1990-01-01 00:00:00",
         "ang mo kio",
         "3 room",
         "320",
         "ANG MO KIO AVE 1",
         "07 TO 09",
         "73.0",
         "new generation",
         "1970-01-01 00:00:00.000001977",
         "40000.0",
         null,
         "1990"
        ],
        [
         "17",
         "1990-01-01 00:00:00",
         "ang mo kio",
         "3 room",
         "252",
         "ANG MO KIO AVE 4",
         "07 TO 09",
         "67.0",
         "new generation",
         "1970-01-01 00:00:00.000001977",
         "40000.0",
         null,
         "1990"
        ],
        [
         "18",
         "1990-01-01 00:00:00",
         "ang mo kio",
         "3 room",
         "223",
         "ANG MO KIO AVE 1",
         "04 TO 06",
         "67.0",
         "new generation",
         "1970-01-01 00:00:00.000001978",
         "47200.0",
         null,
         "1990"
        ],
        [
         "19",
         "1990-01-01 00:00:00",
         "ang mo kio",
         "3 room",
         "223",
         "ANG MO KIO AVE 1",
         "10 TO 12",
         "67.0",
         "new generation",
         "1970-01-01 00:00:00.000001978",
         "37000.0",
         null,
         "1990"
        ],
        [
         "20",
         "1990-01-01 00:00:00",
         "ang mo kio",
         "3 room",
         "230",
         "ANG MO KIO AVE 3",
         "07 TO 09",
         "82.0",
         "new generation",
         "1970-01-01 00:00:00.000001978",
         "60000.0",
         null,
         "1990"
        ],
        [
         "21",
         "1990-01-01 00:00:00",
         "ang mo kio",
         "3 room",
         "329",
         "ANG MO KIO AVE 3",
         "07 TO 09",
         "73.0",
         "new generation",
         "1970-01-01 00:00:00.000001978",
         "40000.0",
         null,
         "1990"
        ],
        [
         "22",
         "1990-01-01 00:00:00",
         "ang mo kio",
         "3 room",
         "313",
         "ANG MO KIO AVE 3",
         "10 TO 12",
         "73.0",
         "new generation",
         "1970-01-01 00:00:00.000001978",
         "41000.0",
         null,
         "1990"
        ],
        [
         "23",
         "1990-01-01 00:00:00",
         "ang mo kio",
         "3 room",
         "117",
         "ANG MO KIO AVE 4",
         "04 TO 06",
         "74.0",
         "new generation",
         "1970-01-01 00:00:00.000001978",
         "37000.0",
         null,
         "1990"
        ],
        [
         "24",
         "1990-01-01 00:00:00",
         "ang mo kio",
         "3 room",
         "110",
         "ANG MO KIO AVE 4",
         "10 TO 12",
         "67.0",
         "new generation",
         "1970-01-01 00:00:00.000001978",
         "34000.0",
         null,
         "1990"
        ],
        [
         "25",
         "1990-01-01 00:00:00",
         "ang mo kio",
         "3 room",
         "343",
         "ANG MO KIO AVE 3",
         "07 TO 09",
         "73.0",
         "new generation",
         "1970-01-01 00:00:00.000001978",
         "47000.0",
         null,
         "1990"
        ],
        [
         "26",
         "1990-01-01 00:00:00",
         "ang mo kio",
         "3 room",
         "345",
         "ANG MO KIO AVE 3",
         "04 TO 06",
         "73.0",
         "new generation",
         "1970-01-01 00:00:00.000001978",
         "36000.0",
         null,
         "1990"
        ],
        [
         "27",
         "1990-01-01 00:00:00",
         "ang mo kio",
         "3 room",
         "346",
         "ANG MO KIO AVE 3",
         "10 TO 12",
         "73.0",
         "new generation",
         "1970-01-01 00:00:00.000001978",
         "45000.0",
         null,
         "1990"
        ],
        [
         "28",
         "1990-01-01 00:00:00",
         "ang mo kio",
         "3 room",
         "121",
         "ANG MO KIO AVE 3",
         "04 TO 06",
         "67.0",
         "new generation",
         "1970-01-01 00:00:00.000001978",
         "44000.0",
         null,
         "1990"
        ],
        [
         "29",
         "1990-01-01 00:00:00",
         "ang mo kio",
         "3 room",
         "129",
         "ANG MO KIO AVE 3",
         "04 TO 06",
         "73.0",
         "new generation",
         "1970-01-01 00:00:00.000001979",
         "44000.0",
         null,
         "1990"
        ],
        [
         "30",
         "1990-01-01 00:00:00",
         "ang mo kio",
         "3 room",
         "130",
         "ANG MO KIO AVE 3",
         "01 TO 03",
         "88.0",
         "new generation",
         "1970-01-01 00:00:00.000001979",
         "50000.0",
         null,
         "1990"
        ],
        [
         "31",
         "1990-01-01 00:00:00",
         "ang mo kio",
         "3 room",
         "128",
         "ANG MO KIO AVE 3",
         "07 TO 09",
         "67.0",
         "new generation",
         "1970-01-01 00:00:00.000001978",
         "47000.0",
         null,
         "1990"
        ],
        [
         "32",
         "1990-01-01 00:00:00",
         "ang mo kio",
         "3 room",
         "127",
         "ANG MO KIO AVE 3",
         "07 TO 09",
         "67.0",
         "new generation",
         "1970-01-01 00:00:00.000001978",
         "47200.0",
         null,
         "1990"
        ],
        [
         "33",
         "1990-01-01 00:00:00",
         "ang mo kio",
         "3 room",
         "126",
         "ANG MO KIO AVE 3",
         "10 TO 12",
         "82.0",
         "new generation",
         "1970-01-01 00:00:00.000001978",
         "58000.0",
         null,
         "1990"
        ],
        [
         "34",
         "1990-01-01 00:00:00",
         "ang mo kio",
         "3 room",
         "403",
         "ANG MO KIO AVE 10",
         "10 TO 12",
         "67.0",
         "new generation",
         "1970-01-01 00:00:00.000001979",
         "45000.0",
         null,
         "1990"
        ],
        [
         "35",
         "1990-01-01 00:00:00",
         "ang mo kio",
         "3 room",
         "404",
         "ANG MO KIO AVE 10",
         "10 TO 12",
         "67.0",
         "new generation",
         "1970-01-01 00:00:00.000001979",
         "44000.0",
         null,
         "1990"
        ],
        [
         "36",
         "1990-01-01 00:00:00",
         "ang mo kio",
         "3 room",
         "405",
         "ANG MO KIO AVE 10",
         "04 TO 06",
         "67.0",
         "new generation",
         "1970-01-01 00:00:00.000001979",
         "47000.0",
         null,
         "1990"
        ],
        [
         "37",
         "1990-01-01 00:00:00",
         "ang mo kio",
         "3 room",
         "417",
         "ANG MO KIO AVE 10",
         "13 TO 15",
         "89.0",
         "new generation",
         "1970-01-01 00:00:00.000001979",
         "53000.0",
         null,
         "1990"
        ],
        [
         "38",
         "1990-01-01 00:00:00",
         "ang mo kio",
         "3 room",
         "418",
         "ANG MO KIO AVE 10",
         "04 TO 06",
         "74.0",
         "new generation",
         "1970-01-01 00:00:00.000001979",
         "47000.0",
         null,
         "1990"
        ],
        [
         "39",
         "1990-01-01 00:00:00",
         "ang mo kio",
         "3 room",
         "418",
         "ANG MO KIO AVE 10",
         "07 TO 09",
         "74.0",
         "new generation",
         "1970-01-01 00:00:00.000001979",
         "44000.0",
         null,
         "1990"
        ],
        [
         "40",
         "1990-01-01 00:00:00",
         "ang mo kio",
         "3 room",
         "419",
         "ANG MO KIO AVE 10",
         "07 TO 09",
         "74.0",
         "new generation",
         "1970-01-01 00:00:00.000001979",
         "47000.0",
         null,
         "1990"
        ],
        [
         "41",
         "1990-01-01 00:00:00",
         "ang mo kio",
         "3 room",
         "441",
         "ANG MO KIO AVE 10",
         "07 TO 09",
         "67.0",
         "new generation",
         "1970-01-01 00:00:00.000001979",
         "47000.0",
         null,
         "1990"
        ],
        [
         "42",
         "1990-01-01 00:00:00",
         "ang mo kio",
         "3 room",
         "442",
         "ANG MO KIO AVE 10",
         "04 TO 06",
         "67.0",
         "new generation",
         "1970-01-01 00:00:00.000001979",
         "45000.0",
         null,
         "1990"
        ],
        [
         "43",
         "1990-01-01 00:00:00",
         "ang mo kio",
         "3 room",
         "442",
         "ANG MO KIO AVE 10",
         "07 TO 09",
         "67.0",
         "new generation",
         "1970-01-01 00:00:00.000001979",
         "40000.0",
         null,
         "1990"
        ],
        [
         "44",
         "1990-01-01 00:00:00",
         "ang mo kio",
         "3 room",
         "442",
         "ANG MO KIO AVE 10",
         "07 TO 09",
         "67.0",
         "new generation",
         "1970-01-01 00:00:00.000001979",
         "47000.0",
         null,
         "1990"
        ],
        [
         "45",
         "1990-01-01 00:00:00",
         "ang mo kio",
         "3 room",
         "443",
         "ANG MO KIO AVE 10",
         "07 TO 09",
         "67.0",
         "new generation",
         "1970-01-01 00:00:00.000001979",
         "42000.0",
         null,
         "1990"
        ],
        [
         "46",
         "1990-01-01 00:00:00",
         "ang mo kio",
         "3 room",
         "443",
         "ANG MO KIO AVE 10",
         "04 TO 06",
         "82.0",
         "new generation",
         "1970-01-01 00:00:00.000001979",
         "56000.0",
         null,
         "1990"
        ],
        [
         "47",
         "1990-01-01 00:00:00",
         "ang mo kio",
         "3 room",
         "444",
         "ANG MO KIO AVE 10",
         "10 TO 12",
         "67.0",
         "new generation",
         "1970-01-01 00:00:00.000001979",
         "36000.0",
         null,
         "1990"
        ],
        [
         "48",
         "1990-01-01 00:00:00",
         "ang mo kio",
         "3 room",
         "450",
         "ANG MO KIO AVE 10",
         "01 TO 03",
         "83.0",
         "new generation",
         "1970-01-01 00:00:00.000001979",
         "48000.0",
         null,
         "1990"
        ],
        [
         "49",
         "1990-01-01 00:00:00",
         "ang mo kio",
         "3 room",
         "435",
         "ANG MO KIO AVE 10",
         "01 TO 03",
         "67.0",
         "new generation",
         "1970-01-01 00:00:00.000001979",
         "47200.0",
         null,
         "1990"
        ]
       ],
       "shape": {
        "columns": 12,
        "rows": 826581
       }
      },
      "text/html": [
       "<div>\n",
       "<style scoped>\n",
       "    .dataframe tbody tr th:only-of-type {\n",
       "        vertical-align: middle;\n",
       "    }\n",
       "\n",
       "    .dataframe tbody tr th {\n",
       "        vertical-align: top;\n",
       "    }\n",
       "\n",
       "    .dataframe thead th {\n",
       "        text-align: right;\n",
       "    }\n",
       "</style>\n",
       "<table border=\"1\" class=\"dataframe\">\n",
       "  <thead>\n",
       "    <tr style=\"text-align: right;\">\n",
       "      <th></th>\n",
       "      <th>month</th>\n",
       "      <th>town</th>\n",
       "      <th>flat_type</th>\n",
       "      <th>block</th>\n",
       "      <th>street_name</th>\n",
       "      <th>storey_range</th>\n",
       "      <th>floor_area_sqm</th>\n",
       "      <th>flat_model</th>\n",
       "      <th>lease_commence_date</th>\n",
       "      <th>resale_price</th>\n",
       "      <th>lease_years_left</th>\n",
       "      <th>year</th>\n",
       "    </tr>\n",
       "  </thead>\n",
       "  <tbody>\n",
       "    <tr>\n",
       "      <th>0</th>\n",
       "      <td>1990-01-01</td>\n",
       "      <td>ang mo kio</td>\n",
       "      <td>1 room</td>\n",
       "      <td>309</td>\n",
       "      <td>ANG MO KIO AVE 1</td>\n",
       "      <td>10 TO 12</td>\n",
       "      <td>31.0</td>\n",
       "      <td>improved</td>\n",
       "      <td>1970-01-01 00:00:00.000001977</td>\n",
       "      <td>9000.0</td>\n",
       "      <td>NaN</td>\n",
       "      <td>1990</td>\n",
       "    </tr>\n",
       "    <tr>\n",
       "      <th>1</th>\n",
       "      <td>1990-01-01</td>\n",
       "      <td>ang mo kio</td>\n",
       "      <td>1 room</td>\n",
       "      <td>309</td>\n",
       "      <td>ANG MO KIO AVE 1</td>\n",
       "      <td>04 TO 06</td>\n",
       "      <td>31.0</td>\n",
       "      <td>improved</td>\n",
       "      <td>1970-01-01 00:00:00.000001977</td>\n",
       "      <td>6000.0</td>\n",
       "      <td>NaN</td>\n",
       "      <td>1990</td>\n",
       "    </tr>\n",
       "    <tr>\n",
       "      <th>2</th>\n",
       "      <td>1990-01-01</td>\n",
       "      <td>ang mo kio</td>\n",
       "      <td>1 room</td>\n",
       "      <td>309</td>\n",
       "      <td>ANG MO KIO AVE 1</td>\n",
       "      <td>10 TO 12</td>\n",
       "      <td>31.0</td>\n",
       "      <td>improved</td>\n",
       "      <td>1970-01-01 00:00:00.000001977</td>\n",
       "      <td>8000.0</td>\n",
       "      <td>NaN</td>\n",
       "      <td>1990</td>\n",
       "    </tr>\n",
       "    <tr>\n",
       "      <th>3</th>\n",
       "      <td>1990-01-01</td>\n",
       "      <td>ang mo kio</td>\n",
       "      <td>1 room</td>\n",
       "      <td>309</td>\n",
       "      <td>ANG MO KIO AVE 1</td>\n",
       "      <td>07 TO 09</td>\n",
       "      <td>31.0</td>\n",
       "      <td>improved</td>\n",
       "      <td>1970-01-01 00:00:00.000001977</td>\n",
       "      <td>6000.0</td>\n",
       "      <td>NaN</td>\n",
       "      <td>1990</td>\n",
       "    </tr>\n",
       "    <tr>\n",
       "      <th>4</th>\n",
       "      <td>1990-01-01</td>\n",
       "      <td>ang mo kio</td>\n",
       "      <td>3 room</td>\n",
       "      <td>216</td>\n",
       "      <td>ANG MO KIO AVE 1</td>\n",
       "      <td>04 TO 06</td>\n",
       "      <td>73.0</td>\n",
       "      <td>new generation</td>\n",
       "      <td>1970-01-01 00:00:00.000001976</td>\n",
       "      <td>47200.0</td>\n",
       "      <td>NaN</td>\n",
       "      <td>1990</td>\n",
       "    </tr>\n",
       "    <tr>\n",
       "      <th>...</th>\n",
       "      <td>...</td>\n",
       "      <td>...</td>\n",
       "      <td>...</td>\n",
       "      <td>...</td>\n",
       "      <td>...</td>\n",
       "      <td>...</td>\n",
       "      <td>...</td>\n",
       "      <td>...</td>\n",
       "      <td>...</td>\n",
       "      <td>...</td>\n",
       "      <td>...</td>\n",
       "      <td>...</td>\n",
       "    </tr>\n",
       "    <tr>\n",
       "      <th>826576</th>\n",
       "      <td>2020-09-01</td>\n",
       "      <td>yishun</td>\n",
       "      <td>5 room</td>\n",
       "      <td>716</td>\n",
       "      <td>YISHUN ST 71</td>\n",
       "      <td>07 TO 09</td>\n",
       "      <td>131.0</td>\n",
       "      <td>improved</td>\n",
       "      <td>1970-01-01 00:00:00.000001987</td>\n",
       "      <td>440000.0</td>\n",
       "      <td>66.25</td>\n",
       "      <td>2020</td>\n",
       "    </tr>\n",
       "    <tr>\n",
       "      <th>826577</th>\n",
       "      <td>2020-09-01</td>\n",
       "      <td>yishun</td>\n",
       "      <td>5 room</td>\n",
       "      <td>760</td>\n",
       "      <td>YISHUN ST 72</td>\n",
       "      <td>07 TO 09</td>\n",
       "      <td>122.0</td>\n",
       "      <td>improved</td>\n",
       "      <td>1970-01-01 00:00:00.000001987</td>\n",
       "      <td>458000.0</td>\n",
       "      <td>65.50</td>\n",
       "      <td>2020</td>\n",
       "    </tr>\n",
       "    <tr>\n",
       "      <th>826578</th>\n",
       "      <td>2020-09-01</td>\n",
       "      <td>yishun</td>\n",
       "      <td>5 room</td>\n",
       "      <td>835</td>\n",
       "      <td>YISHUN ST 81</td>\n",
       "      <td>04 TO 06</td>\n",
       "      <td>122.0</td>\n",
       "      <td>improved</td>\n",
       "      <td>1970-01-01 00:00:00.000001987</td>\n",
       "      <td>490000.0</td>\n",
       "      <td>66.33</td>\n",
       "      <td>2020</td>\n",
       "    </tr>\n",
       "    <tr>\n",
       "      <th>826579</th>\n",
       "      <td>2020-09-01</td>\n",
       "      <td>yishun</td>\n",
       "      <td>executive</td>\n",
       "      <td>791</td>\n",
       "      <td>YISHUN AVE 2</td>\n",
       "      <td>04 TO 06</td>\n",
       "      <td>146.0</td>\n",
       "      <td>maisonette</td>\n",
       "      <td>1970-01-01 00:00:00.000001987</td>\n",
       "      <td>558000.0</td>\n",
       "      <td>66.25</td>\n",
       "      <td>2020</td>\n",
       "    </tr>\n",
       "    <tr>\n",
       "      <th>826580</th>\n",
       "      <td>2020-09-01</td>\n",
       "      <td>yishun</td>\n",
       "      <td>executive</td>\n",
       "      <td>387</td>\n",
       "      <td>YISHUN RING RD</td>\n",
       "      <td>04 TO 06</td>\n",
       "      <td>146.0</td>\n",
       "      <td>maisonette</td>\n",
       "      <td>1970-01-01 00:00:00.000001988</td>\n",
       "      <td>555000.0</td>\n",
       "      <td>66.75</td>\n",
       "      <td>2020</td>\n",
       "    </tr>\n",
       "  </tbody>\n",
       "</table>\n",
       "<p>826581 rows × 12 columns</p>\n",
       "</div>"
      ],
      "text/plain": [
       "            month        town  flat_type block       street_name storey_range  \\\n",
       "0      1990-01-01  ang mo kio     1 room   309  ANG MO KIO AVE 1     10 TO 12   \n",
       "1      1990-01-01  ang mo kio     1 room   309  ANG MO KIO AVE 1     04 TO 06   \n",
       "2      1990-01-01  ang mo kio     1 room   309  ANG MO KIO AVE 1     10 TO 12   \n",
       "3      1990-01-01  ang mo kio     1 room   309  ANG MO KIO AVE 1     07 TO 09   \n",
       "4      1990-01-01  ang mo kio     3 room   216  ANG MO KIO AVE 1     04 TO 06   \n",
       "...           ...         ...        ...   ...               ...          ...   \n",
       "826576 2020-09-01      yishun     5 room   716      YISHUN ST 71     07 TO 09   \n",
       "826577 2020-09-01      yishun     5 room   760      YISHUN ST 72     07 TO 09   \n",
       "826578 2020-09-01      yishun     5 room   835      YISHUN ST 81     04 TO 06   \n",
       "826579 2020-09-01      yishun  executive   791      YISHUN AVE 2     04 TO 06   \n",
       "826580 2020-09-01      yishun  executive   387    YISHUN RING RD     04 TO 06   \n",
       "\n",
       "        floor_area_sqm      flat_model           lease_commence_date  \\\n",
       "0                 31.0        improved 1970-01-01 00:00:00.000001977   \n",
       "1                 31.0        improved 1970-01-01 00:00:00.000001977   \n",
       "2                 31.0        improved 1970-01-01 00:00:00.000001977   \n",
       "3                 31.0        improved 1970-01-01 00:00:00.000001977   \n",
       "4                 73.0  new generation 1970-01-01 00:00:00.000001976   \n",
       "...                ...             ...                           ...   \n",
       "826576           131.0        improved 1970-01-01 00:00:00.000001987   \n",
       "826577           122.0        improved 1970-01-01 00:00:00.000001987   \n",
       "826578           122.0        improved 1970-01-01 00:00:00.000001987   \n",
       "826579           146.0      maisonette 1970-01-01 00:00:00.000001987   \n",
       "826580           146.0      maisonette 1970-01-01 00:00:00.000001988   \n",
       "\n",
       "        resale_price  lease_years_left  year  \n",
       "0             9000.0               NaN  1990  \n",
       "1             6000.0               NaN  1990  \n",
       "2             8000.0               NaN  1990  \n",
       "3             6000.0               NaN  1990  \n",
       "4            47200.0               NaN  1990  \n",
       "...              ...               ...   ...  \n",
       "826576      440000.0             66.25  2020  \n",
       "826577      458000.0             65.50  2020  \n",
       "826578      490000.0             66.33  2020  \n",
       "826579      558000.0             66.25  2020  \n",
       "826580      555000.0             66.75  2020  \n",
       "\n",
       "[826581 rows x 12 columns]"
      ]
     },
     "execution_count": 130,
     "metadata": {},
     "output_type": "execute_result"
    }
   ],
   "source": [
    "hdb_all"
   ]
  },
  {
   "cell_type": "code",
   "execution_count": 131,
   "id": "6c992b2a",
   "metadata": {},
   "outputs": [],
   "source": [
    "# Ridgeline plot : flat prices across the year, for each flat type\n",
    "# Ridge plot to visalize distribution of variable across the groups of flats\n",
    "# See the shape of dist, comparison betw groups and trends over time\n",
    "from joypy import joyplot\n",
    "\n",
    "flat_types = ['1 room', '2 room', '3 room', '4 room', '5 room', 'executive']\n",
    "\n",
    "for flat in flat_types:\n",
    "    data = hdb_all[hdb_all['flat_type'].str.lower() == flat]\n",
    "\n",
    "    # Skip if no data\n",
    "    if data.empty:\n",
    "        continue\n",
    "\n",
    "    fig, ax = joyplot(\n",
    "        data,\n",
    "        by='year',\n",
    "        column='resale_price',\n",
    "        figsize=(10, 6),\n",
    "        title=f'Resale Price Distribution Over Years — {flat.title()}',\n",
    "        colormap=plt.cm.plasma,\n",
    "        kind='kde',\n",
    "        fade=True,\n",
    "        alpha=0.8,\n",
    "        overlap=1\n",
    "    )\n",
    "    plt.xlabel('Resale Price ($)')\n",
    "    plt.show()\n",
    "\n"
   ]
  },
  {
   "cell_type": "markdown",
   "id": "9c96624b",
   "metadata": {},
   "source": [
    "# Adjust prices to inflation, using Consumer Price Index (CPI)"
   ]
  },
  {
   "cell_type": "code",
   "execution_count": 132,
   "id": "0601301a",
   "metadata": {},
   "outputs": [],
   "source": [
    "cpi_1961_2020 = pd.read_csv(\"Data/CPI.csv\")\n",
    "cpi_1961_2020['month'] = pd.to_datetime(cpi_1961_2020['month'], format = '%Y %b' )"
   ]
  },
  {
   "cell_type": "code",
   "execution_count": 133,
   "id": "5723b213",
   "metadata": {},
   "outputs": [],
   "source": [
    "hdb_all = hdb_all.merge(cpi_1961_2020, on='month', how = 'left')\n",
    "# Real price = (normal price / cpi at that time) x 100 (base cpi)\n",
    "\n",
    "hdb_all['resale_price_adjusted'] = hdb_all['resale_price'] / hdb_all['cpi'] * 100"
   ]
  },
  {
   "cell_type": "markdown",
   "id": "8d0783fe",
   "metadata": {},
   "source": [
    "# How has prices changed over time, with inflation? \n",
    "Adjusted for inflation and unadjusted."
   ]
  },
  {
   "cell_type": "code",
   "execution_count": 134,
   "id": "4261d78b",
   "metadata": {},
   "outputs": [
    {
     "data": {
      "application/vnd.microsoft.datawrangler.viewer.v0+json": {
       "columns": [
        {
         "name": "index",
         "rawType": "int64",
         "type": "integer"
        },
        {
         "name": "month",
         "rawType": "datetime64[ns]",
         "type": "datetime"
        },
        {
         "name": "resale_price",
         "rawType": "float64",
         "type": "float"
        },
        {
         "name": "resale_price_adjusted",
         "rawType": "float64",
         "type": "float"
        }
       ],
       "ref": "042f0c55-7ef3-4c68-b6fa-198e11ad2d06",
       "rows": [
        [
         "0",
         "1990-01-01 00:00:00",
         "65214.12076974121",
         "107094.49333225146"
        ],
        [
         "1",
         "1990-02-01 00:00:00",
         "67871.05263157895",
         "110766.47947184603"
        ],
        [
         "2",
         "1990-03-01 00:00:00",
         "66603.43391304348",
         "108701.25654955523"
        ],
        [
         "3",
         "1990-04-01 00:00:00",
         "65930.15281757402",
         "107516.4345290749"
        ],
        [
         "4",
         "1990-05-01 00:00:00",
         "67837.12853470437",
         "111030.03131805356"
        ],
        [
         "5",
         "1990-06-01 00:00:00",
         "66789.56310679612",
         "107995.08950892734"
        ],
        [
         "6",
         "1990-07-01 00:00:00",
         "68974.89822064056",
         "110402.23160996314"
        ],
        [
         "7",
         "1990-08-01 00:00:00",
         "68606.35435992578",
         "109812.33491248765"
        ],
        [
         "8",
         "1990-09-01 00:00:00",
         "69951.49132947977",
         "111766.8067321964"
        ],
        [
         "9",
         "1990-10-01 00:00:00",
         "72370.51851851853",
         "115335.1796368307"
        ],
        [
         "10",
         "1990-11-01 00:00:00",
         "69191.45504587155",
         "108875.47803476194"
        ],
        [
         "11",
         "1990-12-01 00:00:00",
         "69708.47647058824",
         "109459.95300324765"
        ],
        [
         "12",
         "1991-01-01 00:00:00",
         "72881.85714285714",
         "114233.0953164639"
        ],
        [
         "13",
         "1991-02-01 00:00:00",
         "69446.88725490196",
         "108850.92046222878"
        ],
        [
         "14",
         "1991-03-01 00:00:00",
         "72264.59016393442",
         "113495.0844388969"
        ],
        [
         "15",
         "1991-04-01 00:00:00",
         "67542.825",
         "105631.39251196398"
        ],
        [
         "16",
         "1991-05-01 00:00:00",
         "75928.27513227513",
         "119995.3776033174"
        ],
        [
         "17",
         "1991-06-01 00:00:00",
         "75216.86602870813",
         "118869.20370546664"
        ],
        [
         "18",
         "1991-07-01 00:00:00",
         "76148.8275862069",
         "120224.23402044065"
        ],
        [
         "19",
         "1991-08-01 00:00:00",
         "74919.4135855546",
         "118288.8303422297"
        ],
        [
         "20",
         "1991-09-01 00:00:00",
         "77127.62023217247",
         "121775.32561603586"
        ],
        [
         "21",
         "1991-10-01 00:00:00",
         "77559.98985629754",
         "121620.75810120044"
        ],
        [
         "22",
         "1991-11-01 00:00:00",
         "72719.91316931983",
         "114714.65353565091"
        ],
        [
         "23",
         "1991-12-01 00:00:00",
         "68716.3238095238",
         "108399.0468979111"
        ],
        [
         "24",
         "1992-01-01 00:00:00",
         "73872.47920133111",
         "115615.4303174444"
        ],
        [
         "25",
         "1992-02-01 00:00:00",
         "76253.74004192872",
         "119700.08169334535"
        ],
        [
         "26",
         "1992-03-01 00:00:00",
         "81575.2111410602",
         "128053.51491438558"
        ],
        [
         "27",
         "1992-04-01 00:00:00",
         "81843.28022492971",
         "126079.55175298042"
        ],
        [
         "28",
         "1992-05-01 00:00:00",
         "85330.85087719298",
         "131452.1534294497"
        ],
        [
         "29",
         "1992-06-01 00:00:00",
         "82029.59395656279",
         "126335.4288565575"
        ],
        [
         "30",
         "1992-07-01 00:00:00",
         "86256.87789799072",
         "131101.43462624363"
        ],
        [
         "31",
         "1992-08-01 00:00:00",
         "89953.46570972887",
         "136719.8615523131"
        ],
        [
         "32",
         "1992-09-01 00:00:00",
         "85805.7005730659",
         "130421.63908903331"
        ],
        [
         "33",
         "1992-10-01 00:00:00",
         "89096.00591278641",
         "134910.14053812996"
        ],
        [
         "34",
         "1992-11-01 00:00:00",
         "87611.75872093023",
         "132280.1043618345"
        ],
        [
         "35",
         "1992-12-01 00:00:00",
         "88452.17606177606",
         "133540.93855573412"
        ],
        [
         "36",
         "1993-01-01 00:00:00",
         "89434.76357267951",
         "133222.25402591834"
        ],
        [
         "37",
         "1993-02-01 00:00:00",
         "88650.57996485062",
         "132054.13210518175"
        ],
        [
         "38",
         "1993-03-01 00:00:00",
         "92950.30548068284",
         "138230.4559295136"
        ],
        [
         "39",
         "1993-04-01 00:00:00",
         "95130.77725118483",
         "141344.9085510294"
        ],
        [
         "40",
         "1993-05-01 00:00:00",
         "118128.88424717146",
         "175515.39915483695"
        ],
        [
         "41",
         "1993-06-01 00:00:00",
         "127563.89942763696",
         "189216.22057884058"
        ],
        [
         "42",
         "1993-07-01 00:00:00",
         "136418.5814116003",
         "201731.01474565285"
        ],
        [
         "43",
         "1993-08-01 00:00:00",
         "142140.57325268816",
         "210167.6325595697"
        ],
        [
         "44",
         "1993-09-01 00:00:00",
         "149617.5948275862",
         "220893.2054206756"
        ],
        [
         "45",
         "1993-10-01 00:00:00",
         "154672.243006034",
         "227415.70435951068"
        ],
        [
         "46",
         "1993-11-01 00:00:00",
         "156532.25574030087",
         "230147.11050710277"
        ],
        [
         "47",
         "1993-12-01 00:00:00",
         "158630.08697552446",
         "233234.95063520866"
        ],
        [
         "48",
         "1994-01-01 00:00:00",
         "155568.70269259537",
         "228324.21324223286"
        ],
        [
         "49",
         "1994-02-01 00:00:00",
         "161327.32071005917",
         "237399.67141982925"
        ]
       ],
       "shape": {
        "columns": 3,
        "rows": 369
       }
      },
      "text/html": [
       "<div>\n",
       "<style scoped>\n",
       "    .dataframe tbody tr th:only-of-type {\n",
       "        vertical-align: middle;\n",
       "    }\n",
       "\n",
       "    .dataframe tbody tr th {\n",
       "        vertical-align: top;\n",
       "    }\n",
       "\n",
       "    .dataframe thead th {\n",
       "        text-align: right;\n",
       "    }\n",
       "</style>\n",
       "<table border=\"1\" class=\"dataframe\">\n",
       "  <thead>\n",
       "    <tr style=\"text-align: right;\">\n",
       "      <th></th>\n",
       "      <th>month</th>\n",
       "      <th>resale_price</th>\n",
       "      <th>resale_price_adjusted</th>\n",
       "    </tr>\n",
       "  </thead>\n",
       "  <tbody>\n",
       "    <tr>\n",
       "      <th>0</th>\n",
       "      <td>1990-01-01</td>\n",
       "      <td>65214.120770</td>\n",
       "      <td>107094.493332</td>\n",
       "    </tr>\n",
       "    <tr>\n",
       "      <th>1</th>\n",
       "      <td>1990-02-01</td>\n",
       "      <td>67871.052632</td>\n",
       "      <td>110766.479472</td>\n",
       "    </tr>\n",
       "    <tr>\n",
       "      <th>2</th>\n",
       "      <td>1990-03-01</td>\n",
       "      <td>66603.433913</td>\n",
       "      <td>108701.256550</td>\n",
       "    </tr>\n",
       "    <tr>\n",
       "      <th>3</th>\n",
       "      <td>1990-04-01</td>\n",
       "      <td>65930.152818</td>\n",
       "      <td>107516.434529</td>\n",
       "    </tr>\n",
       "    <tr>\n",
       "      <th>4</th>\n",
       "      <td>1990-05-01</td>\n",
       "      <td>67837.128535</td>\n",
       "      <td>111030.031318</td>\n",
       "    </tr>\n",
       "    <tr>\n",
       "      <th>...</th>\n",
       "      <td>...</td>\n",
       "      <td>...</td>\n",
       "      <td>...</td>\n",
       "    </tr>\n",
       "    <tr>\n",
       "      <th>364</th>\n",
       "      <td>2020-05-01</td>\n",
       "      <td>445865.509642</td>\n",
       "      <td>443656.102253</td>\n",
       "    </tr>\n",
       "    <tr>\n",
       "      <th>365</th>\n",
       "      <td>2020-06-01</td>\n",
       "      <td>432059.865879</td>\n",
       "      <td>429965.931792</td>\n",
       "    </tr>\n",
       "    <tr>\n",
       "      <th>366</th>\n",
       "      <td>2020-07-01</td>\n",
       "      <td>436437.791330</td>\n",
       "      <td>444139.164441</td>\n",
       "    </tr>\n",
       "    <tr>\n",
       "      <th>367</th>\n",
       "      <td>2020-08-01</td>\n",
       "      <td>447903.669219</td>\n",
       "      <td>448581.026570</td>\n",
       "    </tr>\n",
       "    <tr>\n",
       "      <th>368</th>\n",
       "      <td>2020-09-01</td>\n",
       "      <td>459641.649658</td>\n",
       "      <td>460244.570045</td>\n",
       "    </tr>\n",
       "  </tbody>\n",
       "</table>\n",
       "<p>369 rows × 3 columns</p>\n",
       "</div>"
      ],
      "text/plain": [
       "         month   resale_price  resale_price_adjusted\n",
       "0   1990-01-01   65214.120770          107094.493332\n",
       "1   1990-02-01   67871.052632          110766.479472\n",
       "2   1990-03-01   66603.433913          108701.256550\n",
       "3   1990-04-01   65930.152818          107516.434529\n",
       "4   1990-05-01   67837.128535          111030.031318\n",
       "..         ...            ...                    ...\n",
       "364 2020-05-01  445865.509642          443656.102253\n",
       "365 2020-06-01  432059.865879          429965.931792\n",
       "366 2020-07-01  436437.791330          444139.164441\n",
       "367 2020-08-01  447903.669219          448581.026570\n",
       "368 2020-09-01  459641.649658          460244.570045\n",
       "\n",
       "[369 rows x 3 columns]"
      ]
     },
     "execution_count": 134,
     "metadata": {},
     "output_type": "execute_result"
    }
   ],
   "source": [
    "hdb_all.groupby('month')[['resale_price', 'resale_price_adjusted']].mean().reset_index()"
   ]
  },
  {
   "cell_type": "code",
   "execution_count": 135,
   "id": "86adb0ea",
   "metadata": {},
   "outputs": [],
   "source": [
    "# Compute average prices per month in each year\n",
    "yearly_avg = hdb_all.groupby('month')[['resale_price', 'resale_price_adjusted']].mean().reset_index()\n",
    "\n",
    "# Plot yearly average\n",
    "plt.figure(figsize=(14, 7))\n",
    "plt.plot(yearly_avg['month'], yearly_avg['resale_price'] / 1000, label='Nominal Price', color='red')\n",
    "plt.plot(yearly_avg['month'], yearly_avg['resale_price_adjusted'] / 1000, label='Real Price (Adjusted for inflation)', color='blue')\n",
    "plt.title('Average HDB Resale Prices by Year with Key Economic Events', fontsize=16, fontweight='bold')\n",
    "plt.xlabel('Year', fontsize=12)\n",
    "plt.xlim(yearly_avg['month'].min(), yearly_avg['month'].max())\n",
    "plt.ylabel('Average Price in Thousands (SGD)', fontsize=12)\n",
    "plt.legend(fontsize=12)\n",
    "plt.grid(axis='y', linestyle='--', alpha=0.5)\n",
    "\n",
    "ax = plt.gca()\n",
    "\n",
    "# Highlight periods and annotate\n",
    "highlights = [\n",
    "    {'start': pd.Timestamp('1997-01-01'), 'end': pd.Timestamp('1998-12-31'), 'color': \"#DE9000\", 'label': 'Asian Financial Crisis\\n1997-1998'},\n",
    "    {'start': pd.Timestamp('2008-01-01'), 'end': pd.Timestamp('2009-12-31'), 'color': 'black', 'label': 'Global Financial Crisis\\n2008-2009'},\n",
    "    {'start': pd.Timestamp('2013-01-01'), 'end': pd.Timestamp('2014-12-31'), 'color': 'green', 'label': 'Cooling Measures\\n2013-2014'}\n",
    "]\n",
    "\n",
    "max_price = max(yearly_avg['resale_price'].max() / 1000, yearly_avg['resale_price_adjusted'].max() / 1000)\n",
    "\n",
    "for h in highlights:\n",
    "    # Shade the area with lighter alpha\n",
    "    ax.axvspan(h['start'], h['end'], color=h['color'], alpha=0.12)\n",
    "\n",
    "    # Filter data for that time range\n",
    "    mask = (yearly_avg['month'] >= h['start']) & (yearly_avg['month'] <= h['end'])\n",
    "    data_in_range = yearly_avg.loc[mask]\n",
    "    # Get min and max prices (in thousands)\n",
    "    min_price_k = data_in_range['resale_price_adjusted'].min() / 1000\n",
    "    max_price_k = data_in_range['resale_price_adjusted'].max() / 1000\n",
    "\n",
    "    # Horizontal lines for min and max prices\n",
    "    ax.hlines(y=min_price_k, xmin=h['start'], xmax=h['end'], color=h['color'], linestyle=':', linewidth=1.5)\n",
    "    ax.hlines(y=max_price_k, xmin=h['start'], xmax=h['end'], color=h['color'], linestyle=':', linewidth=1.5)\n",
    "\n",
    "    # Highlight min and max points on the line with markers\n",
    "    min_idx = data_in_range['resale_price_adjusted'].idxmin()\n",
    "    max_idx = data_in_range['resale_price_adjusted'].idxmax()\n",
    "    ax.plot(yearly_avg.loc[min_idx, 'month'], min_price_k, 'o', color='black', markersize=5, markeredgecolor='black')\n",
    "    ax.plot(yearly_avg.loc[max_idx, 'month'], max_price_k, 'o', color='black', markersize=5, markeredgecolor='black')\n",
    "\n",
    "    # Annotate min price with offset + arrow\n",
    "    ax.annotate(\n",
    "        f'Min: ${min_price_k:,.0f}k',\n",
    "        xy=(yearly_avg.loc[min_idx, 'month'], min_price_k-5),\n",
    "        xytext=(yearly_avg.loc[min_idx, 'month'], min_price_k - 35),\n",
    "        textcoords='data',\n",
    "        ha='center', va='top',\n",
    "        fontsize=10,\n",
    "        fontweight='light',\n",
    "        bbox=dict(boxstyle='round,pad=0.3', facecolor='white', alpha=0.9),\n",
    "        arrowprops=dict(arrowstyle='->', color=\"#000000\", lw=1)\n",
    "    )\n",
    "\n",
    "    # Annotate max price with offset + arrow\n",
    "    ax.annotate(\n",
    "        f'Max: ${max_price_k:,.0f}k',\n",
    "        xy=(yearly_avg.loc[max_idx, 'month'], max_price_k+5),\n",
    "        xytext=(yearly_avg.loc[max_idx, 'month'], max_price_k + 35),\n",
    "        textcoords='data',\n",
    "        ha='center', va='bottom',\n",
    "        fontsize=10,\n",
    "        fontweight='light',\n",
    "        bbox=dict(boxstyle='round,pad=0.3', facecolor='white', alpha=0.9),\n",
    "        arrowprops=dict(arrowstyle='->', color=\"#000000\", lw=1)\n",
    "    )\n",
    "\n",
    "    # Annotate event title\n",
    "    mid = h['start'] + (h['end'] - h['start']) / 2\n",
    "    y_pos = max_price * 0.3\n",
    "\n",
    "    ax.text(mid, y_pos, h['label'], color=h['color'], \n",
    "            fontsize=12, fontweight='bold', ha='center', \n",
    "            bbox=dict(boxstyle='round,pad=0.3', facecolor=\"#F1FCFC\", alpha=0.8, \n",
    "                      edgecolor='#010101', linewidth=0.5))\n",
    "\n",
    "plt.tight_layout()\n",
    "plt.show()\n"
   ]
  },
  {
   "cell_type": "markdown",
   "id": "66e23d3d",
   "metadata": {},
   "source": []
  },
  {
   "cell_type": "code",
   "execution_count": 136,
   "id": "f02da5fb",
   "metadata": {},
   "outputs": [],
   "source": [
    "import matplotlib.pyplot as plt\n",
    "\n",
    "x = [0, 1, 2, 3, 4, 5]\n",
    "y = [3, 8, 1, 10, 5, 2]\n",
    "\n",
    "# Find max y and corresponding x\n",
    "max_y = max(y)\n",
    "max_index = y.index(max_y)\n",
    "max_x = x[max_index]\n",
    "\n",
    "plt.plot(x, y, marker='o')\n",
    "plt.annotate(f'Max: ({max_x}, {max_y})',\n",
    "             xy=(max_x, max_y),             # point to annotate\n",
    "             xytext=(max_x + 0.5, max_y),   # position of text\n",
    "             arrowprops=dict(arrowstyle='->', color='red'),\n",
    "             color='red')\n",
    "\n",
    "plt.title(\"Annotate Maximum Point\")\n",
    "plt.show()\n"
   ]
  },
  {
   "cell_type": "code",
   "execution_count": 137,
   "id": "acc53ebb",
   "metadata": {},
   "outputs": [
    {
     "data": {
      "application/vnd.microsoft.datawrangler.viewer.v0+json": {
       "columns": [
        {
         "name": "index",
         "rawType": "int64",
         "type": "integer"
        },
        {
         "name": "month",
         "rawType": "datetime64[ns]",
         "type": "datetime"
        },
        {
         "name": "town",
         "rawType": "object",
         "type": "string"
        },
        {
         "name": "flat_type",
         "rawType": "object",
         "type": "string"
        },
        {
         "name": "block",
         "rawType": "object",
         "type": "string"
        },
        {
         "name": "street_name",
         "rawType": "object",
         "type": "string"
        },
        {
         "name": "storey_range",
         "rawType": "object",
         "type": "string"
        },
        {
         "name": "floor_area_sqm",
         "rawType": "float64",
         "type": "float"
        },
        {
         "name": "flat_model",
         "rawType": "object",
         "type": "string"
        },
        {
         "name": "lease_commence_date",
         "rawType": "datetime64[ns]",
         "type": "datetime"
        },
        {
         "name": "resale_price",
         "rawType": "float64",
         "type": "float"
        },
        {
         "name": "lease_years_left",
         "rawType": "float64",
         "type": "float"
        },
        {
         "name": "year",
         "rawType": "int32",
         "type": "integer"
        },
        {
         "name": "cpi",
         "rawType": "float64",
         "type": "float"
        },
        {
         "name": "resale_price_adjusted",
         "rawType": "float64",
         "type": "float"
        }
       ],
       "ref": "e1824810-d00c-4494-a313-f424a832137b",
       "rows": [
        [
         "0",
         "1990-01-01 00:00:00",
         "ang mo kio",
         "1 room",
         "309",
         "ANG MO KIO AVE 1",
         "10 TO 12",
         "31.0",
         "improved",
         "1970-01-01 00:00:00.000001977",
         "9000.0",
         null,
         "1990",
         "60.894",
         "14779.781259237365"
        ],
        [
         "1",
         "1990-01-01 00:00:00",
         "ang mo kio",
         "1 room",
         "309",
         "ANG MO KIO AVE 1",
         "04 TO 06",
         "31.0",
         "improved",
         "1970-01-01 00:00:00.000001977",
         "6000.0",
         null,
         "1990",
         "60.894",
         "9853.187506158243"
        ],
        [
         "2",
         "1990-01-01 00:00:00",
         "ang mo kio",
         "1 room",
         "309",
         "ANG MO KIO AVE 1",
         "10 TO 12",
         "31.0",
         "improved",
         "1970-01-01 00:00:00.000001977",
         "8000.0",
         null,
         "1990",
         "60.894",
         "13137.583341544323"
        ],
        [
         "3",
         "1990-01-01 00:00:00",
         "ang mo kio",
         "1 room",
         "309",
         "ANG MO KIO AVE 1",
         "07 TO 09",
         "31.0",
         "improved",
         "1970-01-01 00:00:00.000001977",
         "6000.0",
         null,
         "1990",
         "60.894",
         "9853.187506158243"
        ],
        [
         "4",
         "1990-01-01 00:00:00",
         "ang mo kio",
         "3 room",
         "216",
         "ANG MO KIO AVE 1",
         "04 TO 06",
         "73.0",
         "new generation",
         "1970-01-01 00:00:00.000001976",
         "47200.0",
         null,
         "1990",
         "60.894",
         "77511.74171511151"
        ],
        [
         "5",
         "1990-01-01 00:00:00",
         "ang mo kio",
         "3 room",
         "211",
         "ANG MO KIO AVE 3",
         "01 TO 03",
         "67.0",
         "new generation",
         "1970-01-01 00:00:00.000001977",
         "46000.0",
         null,
         "1990",
         "60.894",
         "75541.10421387987"
        ],
        [
         "6",
         "1990-01-01 00:00:00",
         "ang mo kio",
         "3 room",
         "202",
         "ANG MO KIO AVE 3",
         "07 TO 09",
         "67.0",
         "new generation",
         "1970-01-01 00:00:00.000001977",
         "42000.0",
         null,
         "1990",
         "60.894",
         "68972.31254310769"
        ],
        [
         "7",
         "1990-01-01 00:00:00",
         "ang mo kio",
         "3 room",
         "235",
         "ANG MO KIO AVE 3",
         "10 TO 12",
         "67.0",
         "new generation",
         "1970-01-01 00:00:00.000001977",
         "38000.0",
         null,
         "1990",
         "60.894",
         "62403.52087233554"
        ],
        [
         "8",
         "1990-01-01 00:00:00",
         "ang mo kio",
         "3 room",
         "235",
         "ANG MO KIO AVE 3",
         "04 TO 06",
         "67.0",
         "new generation",
         "1970-01-01 00:00:00.000001977",
         "40000.0",
         null,
         "1990",
         "60.894",
         "65687.91670772161"
        ],
        [
         "9",
         "1990-01-01 00:00:00",
         "ang mo kio",
         "3 room",
         "232",
         "ANG MO KIO AVE 3",
         "01 TO 03",
         "67.0",
         "new generation",
         "1970-01-01 00:00:00.000001977",
         "47000.0",
         null,
         "1990",
         "60.894",
         "77183.3021315729"
        ],
        [
         "10",
         "1990-01-01 00:00:00",
         "ang mo kio",
         "3 room",
         "232",
         "ANG MO KIO AVE 3",
         "07 TO 09",
         "67.0",
         "new generation",
         "1970-01-01 00:00:00.000001977",
         "43000.0",
         null,
         "1990",
         "60.894",
         "70614.51046080074"
        ],
        [
         "11",
         "1990-01-01 00:00:00",
         "ang mo kio",
         "3 room",
         "308",
         "ANG MO KIO AVE 1",
         "07 TO 09",
         "82.0",
         "new generation",
         "1970-01-01 00:00:00.000001976",
         "59000.0",
         null,
         "1990",
         "60.894",
         "96889.67714388939"
        ],
        [
         "12",
         "1990-01-01 00:00:00",
         "ang mo kio",
         "3 room",
         "308",
         "ANG MO KIO AVE 1",
         "10 TO 12",
         "67.0",
         "new generation",
         "1970-01-01 00:00:00.000001976",
         "47200.0",
         null,
         "1990",
         "60.894",
         "77511.74171511151"
        ],
        [
         "13",
         "1990-01-01 00:00:00",
         "ang mo kio",
         "3 room",
         "220",
         "ANG MO KIO AVE 1",
         "07 TO 09",
         "67.0",
         "new generation",
         "1970-01-01 00:00:00.000001977",
         "35000.0",
         null,
         "1990",
         "60.894",
         "57476.92711925641"
        ],
        [
         "14",
         "1990-01-01 00:00:00",
         "ang mo kio",
         "3 room",
         "219",
         "ANG MO KIO AVE 1",
         "07 TO 09",
         "82.0",
         "new generation",
         "1970-01-01 00:00:00.000001977",
         "52000.0",
         null,
         "1990",
         "60.894",
         "85394.29172003809"
        ],
        [
         "15",
         "1990-01-01 00:00:00",
         "ang mo kio",
         "3 room",
         "247",
         "ANG MO KIO AVE 3",
         "04 TO 06",
         "82.0",
         "new generation",
         "1970-01-01 00:00:00.000001978",
         "56900.0",
         null,
         "1990",
         "60.894",
         "93441.061516734"
        ],
        [
         "16",
         "1990-01-01 00:00:00",
         "ang mo kio",
         "3 room",
         "320",
         "ANG MO KIO AVE 1",
         "07 TO 09",
         "73.0",
         "new generation",
         "1970-01-01 00:00:00.000001977",
         "40000.0",
         null,
         "1990",
         "60.894",
         "65687.91670772161"
        ],
        [
         "17",
         "1990-01-01 00:00:00",
         "ang mo kio",
         "3 room",
         "252",
         "ANG MO KIO AVE 4",
         "07 TO 09",
         "67.0",
         "new generation",
         "1970-01-01 00:00:00.000001977",
         "40000.0",
         null,
         "1990",
         "60.894",
         "65687.91670772161"
        ],
        [
         "18",
         "1990-01-01 00:00:00",
         "ang mo kio",
         "3 room",
         "223",
         "ANG MO KIO AVE 1",
         "04 TO 06",
         "67.0",
         "new generation",
         "1970-01-01 00:00:00.000001978",
         "47200.0",
         null,
         "1990",
         "60.894",
         "77511.74171511151"
        ],
        [
         "19",
         "1990-01-01 00:00:00",
         "ang mo kio",
         "3 room",
         "223",
         "ANG MO KIO AVE 1",
         "10 TO 12",
         "67.0",
         "new generation",
         "1970-01-01 00:00:00.000001978",
         "37000.0",
         null,
         "1990",
         "60.894",
         "60761.32295464249"
        ],
        [
         "20",
         "1990-01-01 00:00:00",
         "ang mo kio",
         "3 room",
         "230",
         "ANG MO KIO AVE 3",
         "07 TO 09",
         "82.0",
         "new generation",
         "1970-01-01 00:00:00.000001978",
         "60000.0",
         null,
         "1990",
         "60.894",
         "98531.87506158242"
        ],
        [
         "21",
         "1990-01-01 00:00:00",
         "ang mo kio",
         "3 room",
         "329",
         "ANG MO KIO AVE 3",
         "07 TO 09",
         "73.0",
         "new generation",
         "1970-01-01 00:00:00.000001978",
         "40000.0",
         null,
         "1990",
         "60.894",
         "65687.91670772161"
        ],
        [
         "22",
         "1990-01-01 00:00:00",
         "ang mo kio",
         "3 room",
         "313",
         "ANG MO KIO AVE 3",
         "10 TO 12",
         "73.0",
         "new generation",
         "1970-01-01 00:00:00.000001978",
         "41000.0",
         null,
         "1990",
         "60.894",
         "67330.11462541466"
        ],
        [
         "23",
         "1990-01-01 00:00:00",
         "ang mo kio",
         "3 room",
         "117",
         "ANG MO KIO AVE 4",
         "04 TO 06",
         "74.0",
         "new generation",
         "1970-01-01 00:00:00.000001978",
         "37000.0",
         null,
         "1990",
         "60.894",
         "60761.32295464249"
        ],
        [
         "24",
         "1990-01-01 00:00:00",
         "ang mo kio",
         "3 room",
         "110",
         "ANG MO KIO AVE 4",
         "10 TO 12",
         "67.0",
         "new generation",
         "1970-01-01 00:00:00.000001978",
         "34000.0",
         null,
         "1990",
         "60.894",
         "55834.72920156337"
        ],
        [
         "25",
         "1990-01-01 00:00:00",
         "ang mo kio",
         "3 room",
         "343",
         "ANG MO KIO AVE 3",
         "07 TO 09",
         "73.0",
         "new generation",
         "1970-01-01 00:00:00.000001978",
         "47000.0",
         null,
         "1990",
         "60.894",
         "77183.3021315729"
        ],
        [
         "26",
         "1990-01-01 00:00:00",
         "ang mo kio",
         "3 room",
         "345",
         "ANG MO KIO AVE 3",
         "04 TO 06",
         "73.0",
         "new generation",
         "1970-01-01 00:00:00.000001978",
         "36000.0",
         null,
         "1990",
         "60.894",
         "59119.12503694946"
        ],
        [
         "27",
         "1990-01-01 00:00:00",
         "ang mo kio",
         "3 room",
         "346",
         "ANG MO KIO AVE 3",
         "10 TO 12",
         "73.0",
         "new generation",
         "1970-01-01 00:00:00.000001978",
         "45000.0",
         null,
         "1990",
         "60.894",
         "73898.90629618682"
        ],
        [
         "28",
         "1990-01-01 00:00:00",
         "ang mo kio",
         "3 room",
         "121",
         "ANG MO KIO AVE 3",
         "04 TO 06",
         "67.0",
         "new generation",
         "1970-01-01 00:00:00.000001978",
         "44000.0",
         null,
         "1990",
         "60.894",
         "72256.70837849379"
        ],
        [
         "29",
         "1990-01-01 00:00:00",
         "ang mo kio",
         "3 room",
         "129",
         "ANG MO KIO AVE 3",
         "04 TO 06",
         "73.0",
         "new generation",
         "1970-01-01 00:00:00.000001979",
         "44000.0",
         null,
         "1990",
         "60.894",
         "72256.70837849379"
        ],
        [
         "30",
         "1990-01-01 00:00:00",
         "ang mo kio",
         "3 room",
         "130",
         "ANG MO KIO AVE 3",
         "01 TO 03",
         "88.0",
         "new generation",
         "1970-01-01 00:00:00.000001979",
         "50000.0",
         null,
         "1990",
         "60.894",
         "82109.89588465203"
        ],
        [
         "31",
         "1990-01-01 00:00:00",
         "ang mo kio",
         "3 room",
         "128",
         "ANG MO KIO AVE 3",
         "07 TO 09",
         "67.0",
         "new generation",
         "1970-01-01 00:00:00.000001978",
         "47000.0",
         null,
         "1990",
         "60.894",
         "77183.3021315729"
        ],
        [
         "32",
         "1990-01-01 00:00:00",
         "ang mo kio",
         "3 room",
         "127",
         "ANG MO KIO AVE 3",
         "07 TO 09",
         "67.0",
         "new generation",
         "1970-01-01 00:00:00.000001978",
         "47200.0",
         null,
         "1990",
         "60.894",
         "77511.74171511151"
        ],
        [
         "33",
         "1990-01-01 00:00:00",
         "ang mo kio",
         "3 room",
         "126",
         "ANG MO KIO AVE 3",
         "10 TO 12",
         "82.0",
         "new generation",
         "1970-01-01 00:00:00.000001978",
         "58000.0",
         null,
         "1990",
         "60.894",
         "95247.47922619634"
        ],
        [
         "34",
         "1990-01-01 00:00:00",
         "ang mo kio",
         "3 room",
         "403",
         "ANG MO KIO AVE 10",
         "10 TO 12",
         "67.0",
         "new generation",
         "1970-01-01 00:00:00.000001979",
         "45000.0",
         null,
         "1990",
         "60.894",
         "73898.90629618682"
        ],
        [
         "35",
         "1990-01-01 00:00:00",
         "ang mo kio",
         "3 room",
         "404",
         "ANG MO KIO AVE 10",
         "10 TO 12",
         "67.0",
         "new generation",
         "1970-01-01 00:00:00.000001979",
         "44000.0",
         null,
         "1990",
         "60.894",
         "72256.70837849379"
        ],
        [
         "36",
         "1990-01-01 00:00:00",
         "ang mo kio",
         "3 room",
         "405",
         "ANG MO KIO AVE 10",
         "04 TO 06",
         "67.0",
         "new generation",
         "1970-01-01 00:00:00.000001979",
         "47000.0",
         null,
         "1990",
         "60.894",
         "77183.3021315729"
        ],
        [
         "37",
         "1990-01-01 00:00:00",
         "ang mo kio",
         "3 room",
         "417",
         "ANG MO KIO AVE 10",
         "13 TO 15",
         "89.0",
         "new generation",
         "1970-01-01 00:00:00.000001979",
         "53000.0",
         null,
         "1990",
         "60.894",
         "87036.48963773114"
        ],
        [
         "38",
         "1990-01-01 00:00:00",
         "ang mo kio",
         "3 room",
         "418",
         "ANG MO KIO AVE 10",
         "04 TO 06",
         "74.0",
         "new generation",
         "1970-01-01 00:00:00.000001979",
         "47000.0",
         null,
         "1990",
         "60.894",
         "77183.3021315729"
        ],
        [
         "39",
         "1990-01-01 00:00:00",
         "ang mo kio",
         "3 room",
         "418",
         "ANG MO KIO AVE 10",
         "07 TO 09",
         "74.0",
         "new generation",
         "1970-01-01 00:00:00.000001979",
         "44000.0",
         null,
         "1990",
         "60.894",
         "72256.70837849379"
        ],
        [
         "40",
         "1990-01-01 00:00:00",
         "ang mo kio",
         "3 room",
         "419",
         "ANG MO KIO AVE 10",
         "07 TO 09",
         "74.0",
         "new generation",
         "1970-01-01 00:00:00.000001979",
         "47000.0",
         null,
         "1990",
         "60.894",
         "77183.3021315729"
        ],
        [
         "41",
         "1990-01-01 00:00:00",
         "ang mo kio",
         "3 room",
         "441",
         "ANG MO KIO AVE 10",
         "07 TO 09",
         "67.0",
         "new generation",
         "1970-01-01 00:00:00.000001979",
         "47000.0",
         null,
         "1990",
         "60.894",
         "77183.3021315729"
        ],
        [
         "42",
         "1990-01-01 00:00:00",
         "ang mo kio",
         "3 room",
         "442",
         "ANG MO KIO AVE 10",
         "04 TO 06",
         "67.0",
         "new generation",
         "1970-01-01 00:00:00.000001979",
         "45000.0",
         null,
         "1990",
         "60.894",
         "73898.90629618682"
        ],
        [
         "43",
         "1990-01-01 00:00:00",
         "ang mo kio",
         "3 room",
         "442",
         "ANG MO KIO AVE 10",
         "07 TO 09",
         "67.0",
         "new generation",
         "1970-01-01 00:00:00.000001979",
         "40000.0",
         null,
         "1990",
         "60.894",
         "65687.91670772161"
        ],
        [
         "44",
         "1990-01-01 00:00:00",
         "ang mo kio",
         "3 room",
         "442",
         "ANG MO KIO AVE 10",
         "07 TO 09",
         "67.0",
         "new generation",
         "1970-01-01 00:00:00.000001979",
         "47000.0",
         null,
         "1990",
         "60.894",
         "77183.3021315729"
        ],
        [
         "45",
         "1990-01-01 00:00:00",
         "ang mo kio",
         "3 room",
         "443",
         "ANG MO KIO AVE 10",
         "07 TO 09",
         "67.0",
         "new generation",
         "1970-01-01 00:00:00.000001979",
         "42000.0",
         null,
         "1990",
         "60.894",
         "68972.31254310769"
        ],
        [
         "46",
         "1990-01-01 00:00:00",
         "ang mo kio",
         "3 room",
         "443",
         "ANG MO KIO AVE 10",
         "04 TO 06",
         "82.0",
         "new generation",
         "1970-01-01 00:00:00.000001979",
         "56000.0",
         null,
         "1990",
         "60.894",
         "91963.08339081026"
        ],
        [
         "47",
         "1990-01-01 00:00:00",
         "ang mo kio",
         "3 room",
         "444",
         "ANG MO KIO AVE 10",
         "10 TO 12",
         "67.0",
         "new generation",
         "1970-01-01 00:00:00.000001979",
         "36000.0",
         null,
         "1990",
         "60.894",
         "59119.12503694946"
        ],
        [
         "48",
         "1990-01-01 00:00:00",
         "ang mo kio",
         "3 room",
         "450",
         "ANG MO KIO AVE 10",
         "01 TO 03",
         "83.0",
         "new generation",
         "1970-01-01 00:00:00.000001979",
         "48000.0",
         null,
         "1990",
         "60.894",
         "78825.50004926595"
        ],
        [
         "49",
         "1990-01-01 00:00:00",
         "ang mo kio",
         "3 room",
         "435",
         "ANG MO KIO AVE 10",
         "01 TO 03",
         "67.0",
         "new generation",
         "1970-01-01 00:00:00.000001979",
         "47200.0",
         null,
         "1990",
         "60.894",
         "77511.74171511151"
        ]
       ],
       "shape": {
        "columns": 14,
        "rows": 826581
       }
      },
      "text/html": [
       "<div>\n",
       "<style scoped>\n",
       "    .dataframe tbody tr th:only-of-type {\n",
       "        vertical-align: middle;\n",
       "    }\n",
       "\n",
       "    .dataframe tbody tr th {\n",
       "        vertical-align: top;\n",
       "    }\n",
       "\n",
       "    .dataframe thead th {\n",
       "        text-align: right;\n",
       "    }\n",
       "</style>\n",
       "<table border=\"1\" class=\"dataframe\">\n",
       "  <thead>\n",
       "    <tr style=\"text-align: right;\">\n",
       "      <th></th>\n",
       "      <th>month</th>\n",
       "      <th>town</th>\n",
       "      <th>flat_type</th>\n",
       "      <th>block</th>\n",
       "      <th>street_name</th>\n",
       "      <th>storey_range</th>\n",
       "      <th>floor_area_sqm</th>\n",
       "      <th>flat_model</th>\n",
       "      <th>lease_commence_date</th>\n",
       "      <th>resale_price</th>\n",
       "      <th>lease_years_left</th>\n",
       "      <th>year</th>\n",
       "      <th>cpi</th>\n",
       "      <th>resale_price_adjusted</th>\n",
       "    </tr>\n",
       "  </thead>\n",
       "  <tbody>\n",
       "    <tr>\n",
       "      <th>0</th>\n",
       "      <td>1990-01-01</td>\n",
       "      <td>ang mo kio</td>\n",
       "      <td>1 room</td>\n",
       "      <td>309</td>\n",
       "      <td>ANG MO KIO AVE 1</td>\n",
       "      <td>10 TO 12</td>\n",
       "      <td>31.0</td>\n",
       "      <td>improved</td>\n",
       "      <td>1970-01-01 00:00:00.000001977</td>\n",
       "      <td>9000.0</td>\n",
       "      <td>NaN</td>\n",
       "      <td>1990</td>\n",
       "      <td>60.894</td>\n",
       "      <td>14779.781259</td>\n",
       "    </tr>\n",
       "    <tr>\n",
       "      <th>1</th>\n",
       "      <td>1990-01-01</td>\n",
       "      <td>ang mo kio</td>\n",
       "      <td>1 room</td>\n",
       "      <td>309</td>\n",
       "      <td>ANG MO KIO AVE 1</td>\n",
       "      <td>04 TO 06</td>\n",
       "      <td>31.0</td>\n",
       "      <td>improved</td>\n",
       "      <td>1970-01-01 00:00:00.000001977</td>\n",
       "      <td>6000.0</td>\n",
       "      <td>NaN</td>\n",
       "      <td>1990</td>\n",
       "      <td>60.894</td>\n",
       "      <td>9853.187506</td>\n",
       "    </tr>\n",
       "    <tr>\n",
       "      <th>2</th>\n",
       "      <td>1990-01-01</td>\n",
       "      <td>ang mo kio</td>\n",
       "      <td>1 room</td>\n",
       "      <td>309</td>\n",
       "      <td>ANG MO KIO AVE 1</td>\n",
       "      <td>10 TO 12</td>\n",
       "      <td>31.0</td>\n",
       "      <td>improved</td>\n",
       "      <td>1970-01-01 00:00:00.000001977</td>\n",
       "      <td>8000.0</td>\n",
       "      <td>NaN</td>\n",
       "      <td>1990</td>\n",
       "      <td>60.894</td>\n",
       "      <td>13137.583342</td>\n",
       "    </tr>\n",
       "    <tr>\n",
       "      <th>3</th>\n",
       "      <td>1990-01-01</td>\n",
       "      <td>ang mo kio</td>\n",
       "      <td>1 room</td>\n",
       "      <td>309</td>\n",
       "      <td>ANG MO KIO AVE 1</td>\n",
       "      <td>07 TO 09</td>\n",
       "      <td>31.0</td>\n",
       "      <td>improved</td>\n",
       "      <td>1970-01-01 00:00:00.000001977</td>\n",
       "      <td>6000.0</td>\n",
       "      <td>NaN</td>\n",
       "      <td>1990</td>\n",
       "      <td>60.894</td>\n",
       "      <td>9853.187506</td>\n",
       "    </tr>\n",
       "    <tr>\n",
       "      <th>4</th>\n",
       "      <td>1990-01-01</td>\n",
       "      <td>ang mo kio</td>\n",
       "      <td>3 room</td>\n",
       "      <td>216</td>\n",
       "      <td>ANG MO KIO AVE 1</td>\n",
       "      <td>04 TO 06</td>\n",
       "      <td>73.0</td>\n",
       "      <td>new generation</td>\n",
       "      <td>1970-01-01 00:00:00.000001976</td>\n",
       "      <td>47200.0</td>\n",
       "      <td>NaN</td>\n",
       "      <td>1990</td>\n",
       "      <td>60.894</td>\n",
       "      <td>77511.741715</td>\n",
       "    </tr>\n",
       "    <tr>\n",
       "      <th>...</th>\n",
       "      <td>...</td>\n",
       "      <td>...</td>\n",
       "      <td>...</td>\n",
       "      <td>...</td>\n",
       "      <td>...</td>\n",
       "      <td>...</td>\n",
       "      <td>...</td>\n",
       "      <td>...</td>\n",
       "      <td>...</td>\n",
       "      <td>...</td>\n",
       "      <td>...</td>\n",
       "      <td>...</td>\n",
       "      <td>...</td>\n",
       "      <td>...</td>\n",
       "    </tr>\n",
       "    <tr>\n",
       "      <th>826576</th>\n",
       "      <td>2020-09-01</td>\n",
       "      <td>yishun</td>\n",
       "      <td>5 room</td>\n",
       "      <td>716</td>\n",
       "      <td>YISHUN ST 71</td>\n",
       "      <td>07 TO 09</td>\n",
       "      <td>131.0</td>\n",
       "      <td>improved</td>\n",
       "      <td>1970-01-01 00:00:00.000001987</td>\n",
       "      <td>440000.0</td>\n",
       "      <td>66.25</td>\n",
       "      <td>2020</td>\n",
       "      <td>99.869</td>\n",
       "      <td>440577.156074</td>\n",
       "    </tr>\n",
       "    <tr>\n",
       "      <th>826577</th>\n",
       "      <td>2020-09-01</td>\n",
       "      <td>yishun</td>\n",
       "      <td>5 room</td>\n",
       "      <td>760</td>\n",
       "      <td>YISHUN ST 72</td>\n",
       "      <td>07 TO 09</td>\n",
       "      <td>122.0</td>\n",
       "      <td>improved</td>\n",
       "      <td>1970-01-01 00:00:00.000001987</td>\n",
       "      <td>458000.0</td>\n",
       "      <td>65.50</td>\n",
       "      <td>2020</td>\n",
       "      <td>99.869</td>\n",
       "      <td>458600.767005</td>\n",
       "    </tr>\n",
       "    <tr>\n",
       "      <th>826578</th>\n",
       "      <td>2020-09-01</td>\n",
       "      <td>yishun</td>\n",
       "      <td>5 room</td>\n",
       "      <td>835</td>\n",
       "      <td>YISHUN ST 81</td>\n",
       "      <td>04 TO 06</td>\n",
       "      <td>122.0</td>\n",
       "      <td>improved</td>\n",
       "      <td>1970-01-01 00:00:00.000001987</td>\n",
       "      <td>490000.0</td>\n",
       "      <td>66.33</td>\n",
       "      <td>2020</td>\n",
       "      <td>99.869</td>\n",
       "      <td>490642.741992</td>\n",
       "    </tr>\n",
       "    <tr>\n",
       "      <th>826579</th>\n",
       "      <td>2020-09-01</td>\n",
       "      <td>yishun</td>\n",
       "      <td>executive</td>\n",
       "      <td>791</td>\n",
       "      <td>YISHUN AVE 2</td>\n",
       "      <td>04 TO 06</td>\n",
       "      <td>146.0</td>\n",
       "      <td>maisonette</td>\n",
       "      <td>1970-01-01 00:00:00.000001987</td>\n",
       "      <td>558000.0</td>\n",
       "      <td>66.25</td>\n",
       "      <td>2020</td>\n",
       "      <td>99.869</td>\n",
       "      <td>558731.938840</td>\n",
       "    </tr>\n",
       "    <tr>\n",
       "      <th>826580</th>\n",
       "      <td>2020-09-01</td>\n",
       "      <td>yishun</td>\n",
       "      <td>executive</td>\n",
       "      <td>387</td>\n",
       "      <td>YISHUN RING RD</td>\n",
       "      <td>04 TO 06</td>\n",
       "      <td>146.0</td>\n",
       "      <td>maisonette</td>\n",
       "      <td>1970-01-01 00:00:00.000001988</td>\n",
       "      <td>555000.0</td>\n",
       "      <td>66.75</td>\n",
       "      <td>2020</td>\n",
       "      <td>99.869</td>\n",
       "      <td>555728.003685</td>\n",
       "    </tr>\n",
       "  </tbody>\n",
       "</table>\n",
       "<p>826581 rows × 14 columns</p>\n",
       "</div>"
      ],
      "text/plain": [
       "            month        town  flat_type block       street_name storey_range  \\\n",
       "0      1990-01-01  ang mo kio     1 room   309  ANG MO KIO AVE 1     10 TO 12   \n",
       "1      1990-01-01  ang mo kio     1 room   309  ANG MO KIO AVE 1     04 TO 06   \n",
       "2      1990-01-01  ang mo kio     1 room   309  ANG MO KIO AVE 1     10 TO 12   \n",
       "3      1990-01-01  ang mo kio     1 room   309  ANG MO KIO AVE 1     07 TO 09   \n",
       "4      1990-01-01  ang mo kio     3 room   216  ANG MO KIO AVE 1     04 TO 06   \n",
       "...           ...         ...        ...   ...               ...          ...   \n",
       "826576 2020-09-01      yishun     5 room   716      YISHUN ST 71     07 TO 09   \n",
       "826577 2020-09-01      yishun     5 room   760      YISHUN ST 72     07 TO 09   \n",
       "826578 2020-09-01      yishun     5 room   835      YISHUN ST 81     04 TO 06   \n",
       "826579 2020-09-01      yishun  executive   791      YISHUN AVE 2     04 TO 06   \n",
       "826580 2020-09-01      yishun  executive   387    YISHUN RING RD     04 TO 06   \n",
       "\n",
       "        floor_area_sqm      flat_model           lease_commence_date  \\\n",
       "0                 31.0        improved 1970-01-01 00:00:00.000001977   \n",
       "1                 31.0        improved 1970-01-01 00:00:00.000001977   \n",
       "2                 31.0        improved 1970-01-01 00:00:00.000001977   \n",
       "3                 31.0        improved 1970-01-01 00:00:00.000001977   \n",
       "4                 73.0  new generation 1970-01-01 00:00:00.000001976   \n",
       "...                ...             ...                           ...   \n",
       "826576           131.0        improved 1970-01-01 00:00:00.000001987   \n",
       "826577           122.0        improved 1970-01-01 00:00:00.000001987   \n",
       "826578           122.0        improved 1970-01-01 00:00:00.000001987   \n",
       "826579           146.0      maisonette 1970-01-01 00:00:00.000001987   \n",
       "826580           146.0      maisonette 1970-01-01 00:00:00.000001988   \n",
       "\n",
       "        resale_price  lease_years_left  year     cpi  resale_price_adjusted  \n",
       "0             9000.0               NaN  1990  60.894           14779.781259  \n",
       "1             6000.0               NaN  1990  60.894            9853.187506  \n",
       "2             8000.0               NaN  1990  60.894           13137.583342  \n",
       "3             6000.0               NaN  1990  60.894            9853.187506  \n",
       "4            47200.0               NaN  1990  60.894           77511.741715  \n",
       "...              ...               ...   ...     ...                    ...  \n",
       "826576      440000.0             66.25  2020  99.869          440577.156074  \n",
       "826577      458000.0             65.50  2020  99.869          458600.767005  \n",
       "826578      490000.0             66.33  2020  99.869          490642.741992  \n",
       "826579      558000.0             66.25  2020  99.869          558731.938840  \n",
       "826580      555000.0             66.75  2020  99.869          555728.003685  \n",
       "\n",
       "[826581 rows x 14 columns]"
      ]
     },
     "execution_count": 137,
     "metadata": {},
     "output_type": "execute_result"
    }
   ],
   "source": [
    "hdb_all"
   ]
  },
  {
   "cell_type": "markdown",
   "id": "eba6b614",
   "metadata": {},
   "source": [
    "# Time series forecasting model to predict HDB prices\n",
    "Deployed on a webapp with Streamlit"
   ]
  },
  {
   "cell_type": "markdown",
   "id": "a380786c",
   "metadata": {},
   "source": [
    "# Forecasting CPI with simple linear regression\n",
    "We will be using SARIMA to forecast CPI, as CPI is a time series data with season\n"
   ]
  },
  {
   "cell_type": "code",
   "execution_count": 167,
   "id": "c8902dc4",
   "metadata": {},
   "outputs": [],
   "source": [
    "from sklearn.linear_model import LinearRegression\n",
    "import numpy as np\n",
    "\n",
    "import matplotlib.pyplot as plt\n",
    "\n",
    "# Prepare data for linear regression: use month as ordinal (integer)\n",
    "cpi_ts = hdb_all.drop_duplicates('month').set_index('month').sort_index()['cpi']\n",
    "X = np.arange(len(cpi_ts)).reshape(-1, 1)\n",
    "y = cpi_ts.values\n",
    "\n",
    "# Fit linear regression\n",
    "lr = LinearRegression()\n",
    "lr.fit(X, y)\n",
    "\n",
    "# Predict for existing and future months\n",
    "future_steps = 240\n",
    "X_future = np.arange(len(cpi_ts) + future_steps).reshape(-1, 1)\n",
    "cpi_pred = lr.predict(X_future)\n",
    "\n",
    "# Build DataFrame for forecasted CPI\n",
    "future_months = pd.date_range(start=cpi_ts.index.min(), periods=len(X_future), freq='MS')\n",
    "cpi_lr_forecast_df = pd.DataFrame({'month': future_months, 'cpi': cpi_pred})\n",
    "cpi_lr_forecast_df['year'] = cpi_lr_forecast_df['month'].dt.year"
   ]
  },
  {
   "cell_type": "code",
   "execution_count": 168,
   "id": "12beff50",
   "metadata": {},
   "outputs": [
    {
     "data": {
      "application/vnd.microsoft.datawrangler.viewer.v0+json": {
       "columns": [
        {
         "name": "index",
         "rawType": "int64",
         "type": "integer"
        },
        {
         "name": "month",
         "rawType": "datetime64[ns]",
         "type": "datetime"
        },
        {
         "name": "cpi",
         "rawType": "float64",
         "type": "float"
        },
        {
         "name": "year",
         "rawType": "int32",
         "type": "integer"
        }
       ],
       "ref": "09f554c6-c1d1-4834-8a24-ac5eab91ff8d",
       "rows": [
        [
         "597",
         "2039-10-01 00:00:00",
         "142.22947198179088",
         "2039"
        ],
        [
         "598",
         "2039-11-01 00:00:00",
         "142.36956877609316",
         "2039"
        ],
        [
         "599",
         "2039-12-01 00:00:00",
         "142.5096655703954",
         "2039"
        ],
        [
         "600",
         "2040-01-01 00:00:00",
         "142.64976236469766",
         "2040"
        ],
        [
         "601",
         "2040-02-01 00:00:00",
         "142.78985915899992",
         "2040"
        ],
        [
         "602",
         "2040-03-01 00:00:00",
         "142.92995595330217",
         "2040"
        ],
        [
         "603",
         "2040-04-01 00:00:00",
         "143.07005274760445",
         "2040"
        ],
        [
         "604",
         "2040-05-01 00:00:00",
         "143.21014954190667",
         "2040"
        ],
        [
         "605",
         "2040-06-01 00:00:00",
         "143.35024633620895",
         "2040"
        ],
        [
         "606",
         "2040-07-01 00:00:00",
         "143.49034313051118",
         "2040"
        ],
        [
         "607",
         "2040-08-01 00:00:00",
         "143.63043992481346",
         "2040"
        ],
        [
         "608",
         "2040-09-01 00:00:00",
         "143.7705367191157",
         "2040"
        ]
       ],
       "shape": {
        "columns": 3,
        "rows": 12
       }
      },
      "text/html": [
       "<div>\n",
       "<style scoped>\n",
       "    .dataframe tbody tr th:only-of-type {\n",
       "        vertical-align: middle;\n",
       "    }\n",
       "\n",
       "    .dataframe tbody tr th {\n",
       "        vertical-align: top;\n",
       "    }\n",
       "\n",
       "    .dataframe thead th {\n",
       "        text-align: right;\n",
       "    }\n",
       "</style>\n",
       "<table border=\"1\" class=\"dataframe\">\n",
       "  <thead>\n",
       "    <tr style=\"text-align: right;\">\n",
       "      <th></th>\n",
       "      <th>month</th>\n",
       "      <th>cpi</th>\n",
       "      <th>year</th>\n",
       "    </tr>\n",
       "  </thead>\n",
       "  <tbody>\n",
       "    <tr>\n",
       "      <th>597</th>\n",
       "      <td>2039-10-01</td>\n",
       "      <td>142.229472</td>\n",
       "      <td>2039</td>\n",
       "    </tr>\n",
       "    <tr>\n",
       "      <th>598</th>\n",
       "      <td>2039-11-01</td>\n",
       "      <td>142.369569</td>\n",
       "      <td>2039</td>\n",
       "    </tr>\n",
       "    <tr>\n",
       "      <th>599</th>\n",
       "      <td>2039-12-01</td>\n",
       "      <td>142.509666</td>\n",
       "      <td>2039</td>\n",
       "    </tr>\n",
       "    <tr>\n",
       "      <th>600</th>\n",
       "      <td>2040-01-01</td>\n",
       "      <td>142.649762</td>\n",
       "      <td>2040</td>\n",
       "    </tr>\n",
       "    <tr>\n",
       "      <th>601</th>\n",
       "      <td>2040-02-01</td>\n",
       "      <td>142.789859</td>\n",
       "      <td>2040</td>\n",
       "    </tr>\n",
       "    <tr>\n",
       "      <th>602</th>\n",
       "      <td>2040-03-01</td>\n",
       "      <td>142.929956</td>\n",
       "      <td>2040</td>\n",
       "    </tr>\n",
       "    <tr>\n",
       "      <th>603</th>\n",
       "      <td>2040-04-01</td>\n",
       "      <td>143.070053</td>\n",
       "      <td>2040</td>\n",
       "    </tr>\n",
       "    <tr>\n",
       "      <th>604</th>\n",
       "      <td>2040-05-01</td>\n",
       "      <td>143.210150</td>\n",
       "      <td>2040</td>\n",
       "    </tr>\n",
       "    <tr>\n",
       "      <th>605</th>\n",
       "      <td>2040-06-01</td>\n",
       "      <td>143.350246</td>\n",
       "      <td>2040</td>\n",
       "    </tr>\n",
       "    <tr>\n",
       "      <th>606</th>\n",
       "      <td>2040-07-01</td>\n",
       "      <td>143.490343</td>\n",
       "      <td>2040</td>\n",
       "    </tr>\n",
       "    <tr>\n",
       "      <th>607</th>\n",
       "      <td>2040-08-01</td>\n",
       "      <td>143.630440</td>\n",
       "      <td>2040</td>\n",
       "    </tr>\n",
       "    <tr>\n",
       "      <th>608</th>\n",
       "      <td>2040-09-01</td>\n",
       "      <td>143.770537</td>\n",
       "      <td>2040</td>\n",
       "    </tr>\n",
       "  </tbody>\n",
       "</table>\n",
       "</div>"
      ],
      "text/plain": [
       "         month         cpi  year\n",
       "597 2039-10-01  142.229472  2039\n",
       "598 2039-11-01  142.369569  2039\n",
       "599 2039-12-01  142.509666  2039\n",
       "600 2040-01-01  142.649762  2040\n",
       "601 2040-02-01  142.789859  2040\n",
       "602 2040-03-01  142.929956  2040\n",
       "603 2040-04-01  143.070053  2040\n",
       "604 2040-05-01  143.210150  2040\n",
       "605 2040-06-01  143.350246  2040\n",
       "606 2040-07-01  143.490343  2040\n",
       "607 2040-08-01  143.630440  2040\n",
       "608 2040-09-01  143.770537  2040"
      ]
     },
     "execution_count": 168,
     "metadata": {},
     "output_type": "execute_result"
    }
   ],
   "source": [
    "# Show forecasted CPI for next 10 years\n",
    "cpi_lr_forecast_df.tail(12)"
   ]
  },
  {
   "cell_type": "code",
   "execution_count": null,
   "id": "a2728e86",
   "metadata": {},
   "outputs": [],
   "source": [
    "cpi_forecast_2020_2040=cpi_lr_forecast_df.groupby('year')['cpi'].median().loc[2025:2040]\n",
    "cpi_forecast_2020_2040\n",
    "# to csv:\n",
    "# Save the CPI forecast (future_forecast) as CSV\n",
    "cpi_forecast_2020_2040.to_csv('for_model_future_cpi_forecast.csv', header=True)"
   ]
  },
  {
   "cell_type": "markdown",
   "id": "baf09484",
   "metadata": {},
   "source": [
    "# Inputting forecasted CPI into Random Forest Model that will predict future DB prices based on selected features. \n",
    "\n",
    "### Machine Learning Model for Forecasting Future HDB Prices (Random Forest Regressor)\n",
    "\n",
    "\n"
   ]
  },
  {
   "cell_type": "code",
   "execution_count": 173,
   "id": "a6fb710e",
   "metadata": {},
   "outputs": [
    {
     "name": "stdout",
     "output_type": "stream",
     "text": [
      "MAE: 33144.376906362115\n",
      "Predicted real price (base CPI=100): $578,627\n",
      "Predicted nominal price for 2028 (CPI=123.25): $713,136\n"
     ]
    }
   ],
   "source": [
    "from sklearn.ensemble import RandomForestRegressor\n",
    "from sklearn.model_selection import train_test_split\n",
    "from sklearn.preprocessing import OneHotEncoder\n",
    "from sklearn.compose import ColumnTransformer\n",
    "from sklearn.pipeline import Pipeline\n",
    "from sklearn.metrics import mean_absolute_error\n",
    "\n",
    "# Select only rows with non-null lease_years_left and relevant columns\n",
    "model_data = hdb_all.dropna(subset=['lease_years_left']).copy()\n",
    "\n",
    "# Remove 'year', 'cpi', and 'flat_model' from features\n",
    "features = ['lease_years_left', 'flat_type', 'town', 'storey_range']\n",
    "target = 'resale_price_adjusted'\n",
    "\n",
    "# Split data\n",
    "X = model_data[features]\n",
    "y = model_data[target]\n",
    "X_train, X_test, y_train, y_test = train_test_split(X, y, test_size=0.2, random_state=42)\n",
    "\n",
    "# Preprocessing for categorical features\n",
    "categorical = ['flat_type', 'town', 'storey_range']\n",
    "preprocessor = ColumnTransformer(\n",
    "    transformers=[\n",
    "        ('cat', OneHotEncoder(handle_unknown='ignore'), categorical)\n",
    "    ],\n",
    "    remainder='passthrough'\n",
    ")\n",
    "\n",
    "# Build pipeline\n",
    "model = Pipeline([\n",
    "    ('preprocessor', preprocessor),\n",
    "    ('regressor', RandomForestRegressor(random_state=42))\n",
    "])\n",
    "\n",
    "# Train model\n",
    "model.fit(X_train, y_train)\n",
    "\n",
    "# Predict on test set\n",
    "y_pred = model.predict(X_test)\n",
    "\n",
    "# Print MAE\n",
    "print(\"MAE:\", mean_absolute_error(y_test, y_pred))\n",
    "\n",
    "# User selects a year between 2025 and 2040\n",
    "selected_year = 2028  # Example: replace with user input in your app\n",
    "\n",
    "# Get the forecasted CPI for the selected year\n",
    "cpi_selected = cpi_forecast_2020_2040.loc[selected_year]\n",
    "\n",
    "# Prepare input data for prediction (update lease_years_left, etc. as needed)\n",
    "input_dict = {\n",
    "    'lease_years_left': 99,  # Example value, update as needed\n",
    "    'flat_type': '4 room',   # Example value, update as needed\n",
    "    'town': 'ang mo kio',    # Example value, update as needed\n",
    "    'storey_range': '10 TO 12'  # Example value, update as needed\n",
    "}\n",
    "input_df = pd.DataFrame([input_dict])\n",
    "\n",
    "# Predict adjusted price (real price, base CPI=100)\n",
    "predicted_real_price = model.predict(input_df)[0]\n",
    "\n",
    "# Convert to nominal price for the selected year\n",
    "predicted_nominal_price = predicted_real_price * (cpi_selected / 100)\n",
    "\n",
    "print(f\"Predicted real price (base CPI=100): ${predicted_real_price:,.0f}\")\n",
    "print(f\"Predicted nominal price for {selected_year} (CPI={cpi_selected:.2f}): ${predicted_nominal_price:,.0f}\")"
   ]
  },
  {
   "cell_type": "code",
   "execution_count": 181,
   "id": "23aafae6",
   "metadata": {},
   "outputs": [
    {
     "name": "stdout",
     "output_type": "stream",
     "text": [
      "Model saved to hdb_price_model.joblib\n"
     ]
    }
   ],
   "source": [
    "import joblib\n",
    "\n",
    "# Save the pipeline (preprocessor + model)\n",
    "joblib_file = 'hdb_price_model.joblib'\n",
    "joblib.dump(model, joblib_file)\n",
    "print(f\"Model saved to {joblib_file}\")"
   ]
  },
  {
   "cell_type": "code",
   "execution_count": 180,
   "id": "a0f6e1ff",
   "metadata": {},
   "outputs": [
    {
     "name": "stdout",
     "output_type": "stream",
     "text": [
      "Model predictions saved to 'model_predictions.csv'\n"
     ]
    }
   ],
   "source": [
    "# Predict on test set\n",
    "y_pred = model.predict(X_test)\n",
    "\n",
    "# Combine input features (X_test) and predictions in one DataFrame\n",
    "results_df = X_test.copy()\n",
    "results_df['actual_price'] = y_test.values  # actual values if available\n",
    "results_df['predicted_price'] = y_pred      # predicted values\n",
    "\n",
    "# Save to CSV\n",
    "results_df.to_csv('model_predictions.csv', index=False)\n",
    "print(\"Model predictions saved to 'model_predictions.csv'\")\n"
   ]
  }
 ],
 "metadata": {
  "kernelspec": {
   "display_name": "anaconda-2025.06-py3.11",
   "language": "python",
   "name": "python3"
  },
  "language_info": {
   "codemirror_mode": {
    "name": "ipython",
    "version": 3
   },
   "file_extension": ".py",
   "mimetype": "text/x-python",
   "name": "python",
   "nbconvert_exporter": "python",
   "pygments_lexer": "ipython3",
   "version": "3.11.13"
  }
 },
 "nbformat": 4,
 "nbformat_minor": 5
}
